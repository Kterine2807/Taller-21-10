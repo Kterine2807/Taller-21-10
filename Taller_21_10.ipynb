{
  "nbformat": 4,
  "nbformat_minor": 0,
  "metadata": {
    "colab": {
      "provenance": []
    },
    "kernelspec": {
      "name": "python3",
      "display_name": "Python 3"
    },
    "language_info": {
      "name": "python"
    }
  },
  "cells": [
    {
      "cell_type": "markdown",
      "source": [
        "###INTEGRANTES"
      ],
      "metadata": {
        "id": "_GEtdSyKiZbV"
      }
    },
    {
      "cell_type": "markdown",
      "source": [
        "\n",
        "\n",
        "\n",
        "*   Lisseth Mayerly Merchan Naranjo\n",
        "*   Linda Katherine Reyes Buitrago\n",
        "*   Daniel Esteban Ramirez Montenegro\n",
        "\n",
        "\n"
      ],
      "metadata": {
        "id": "L2b8hmMRid8M"
      }
    },
    {
      "cell_type": "code",
      "source": [
        "import pandas as pd\n",
        "import numpy as np\n",
        "import statsmodels.api as sm\n",
        "import matplotlib.pyplot as plt\n",
        "import seaborn as seaborn"
      ],
      "metadata": {
        "id": "V7mE9oqliyH6"
      },
      "execution_count": 1,
      "outputs": []
    },
    {
      "cell_type": "code",
      "source": [
        "df= pd.read_csv('datos.csv')"
      ],
      "metadata": {
        "id": "oQeGS9Izi9lx"
      },
      "execution_count": 2,
      "outputs": []
    },
    {
      "cell_type": "code",
      "source": [
        "df.head()"
      ],
      "metadata": {
        "colab": {
          "base_uri": "https://localhost:8080/",
          "height": 206
        },
        "id": "j_IeaKMLi_3Q",
        "outputId": "8c0225e2-22b1-4718-fbbf-fae236e5ee34"
      },
      "execution_count": 3,
      "outputs": [
        {
          "output_type": "execute_result",
          "data": {
            "text/plain": [
              "   LotArea  OverallQual  OverallCond  YearBuilt  YearRemodAdd  ExterQual  \\\n",
              "0     8450            7            5         19            19          4   \n",
              "1     9600            6            8         46            46          3   \n",
              "2    11250            7            5         21            20          4   \n",
              "3     9550            7            5        107            52          3   \n",
              "4    14260            8            5         22            22          4   \n",
              "\n",
              "   ExterCond  BedroomAbvGr  GarageCars  PoolArea  SalePrice  Artery  \n",
              "0          3             3           2         0     208500       0  \n",
              "1          3             3           2         0     181500       0  \n",
              "2          3             3           2         0     223500       0  \n",
              "3          3             3           3         0     140000       0  \n",
              "4          3             4           3         0     250000       0  "
            ],
            "text/html": [
              "\n",
              "  <div id=\"df-3c3ea6f4-2a57-4b3d-b760-b80589eb93ee\">\n",
              "    <div class=\"colab-df-container\">\n",
              "      <div>\n",
              "<style scoped>\n",
              "    .dataframe tbody tr th:only-of-type {\n",
              "        vertical-align: middle;\n",
              "    }\n",
              "\n",
              "    .dataframe tbody tr th {\n",
              "        vertical-align: top;\n",
              "    }\n",
              "\n",
              "    .dataframe thead th {\n",
              "        text-align: right;\n",
              "    }\n",
              "</style>\n",
              "<table border=\"1\" class=\"dataframe\">\n",
              "  <thead>\n",
              "    <tr style=\"text-align: right;\">\n",
              "      <th></th>\n",
              "      <th>LotArea</th>\n",
              "      <th>OverallQual</th>\n",
              "      <th>OverallCond</th>\n",
              "      <th>YearBuilt</th>\n",
              "      <th>YearRemodAdd</th>\n",
              "      <th>ExterQual</th>\n",
              "      <th>ExterCond</th>\n",
              "      <th>BedroomAbvGr</th>\n",
              "      <th>GarageCars</th>\n",
              "      <th>PoolArea</th>\n",
              "      <th>SalePrice</th>\n",
              "      <th>Artery</th>\n",
              "    </tr>\n",
              "  </thead>\n",
              "  <tbody>\n",
              "    <tr>\n",
              "      <th>0</th>\n",
              "      <td>8450</td>\n",
              "      <td>7</td>\n",
              "      <td>5</td>\n",
              "      <td>19</td>\n",
              "      <td>19</td>\n",
              "      <td>4</td>\n",
              "      <td>3</td>\n",
              "      <td>3</td>\n",
              "      <td>2</td>\n",
              "      <td>0</td>\n",
              "      <td>208500</td>\n",
              "      <td>0</td>\n",
              "    </tr>\n",
              "    <tr>\n",
              "      <th>1</th>\n",
              "      <td>9600</td>\n",
              "      <td>6</td>\n",
              "      <td>8</td>\n",
              "      <td>46</td>\n",
              "      <td>46</td>\n",
              "      <td>3</td>\n",
              "      <td>3</td>\n",
              "      <td>3</td>\n",
              "      <td>2</td>\n",
              "      <td>0</td>\n",
              "      <td>181500</td>\n",
              "      <td>0</td>\n",
              "    </tr>\n",
              "    <tr>\n",
              "      <th>2</th>\n",
              "      <td>11250</td>\n",
              "      <td>7</td>\n",
              "      <td>5</td>\n",
              "      <td>21</td>\n",
              "      <td>20</td>\n",
              "      <td>4</td>\n",
              "      <td>3</td>\n",
              "      <td>3</td>\n",
              "      <td>2</td>\n",
              "      <td>0</td>\n",
              "      <td>223500</td>\n",
              "      <td>0</td>\n",
              "    </tr>\n",
              "    <tr>\n",
              "      <th>3</th>\n",
              "      <td>9550</td>\n",
              "      <td>7</td>\n",
              "      <td>5</td>\n",
              "      <td>107</td>\n",
              "      <td>52</td>\n",
              "      <td>3</td>\n",
              "      <td>3</td>\n",
              "      <td>3</td>\n",
              "      <td>3</td>\n",
              "      <td>0</td>\n",
              "      <td>140000</td>\n",
              "      <td>0</td>\n",
              "    </tr>\n",
              "    <tr>\n",
              "      <th>4</th>\n",
              "      <td>14260</td>\n",
              "      <td>8</td>\n",
              "      <td>5</td>\n",
              "      <td>22</td>\n",
              "      <td>22</td>\n",
              "      <td>4</td>\n",
              "      <td>3</td>\n",
              "      <td>4</td>\n",
              "      <td>3</td>\n",
              "      <td>0</td>\n",
              "      <td>250000</td>\n",
              "      <td>0</td>\n",
              "    </tr>\n",
              "  </tbody>\n",
              "</table>\n",
              "</div>\n",
              "      <button class=\"colab-df-convert\" onclick=\"convertToInteractive('df-3c3ea6f4-2a57-4b3d-b760-b80589eb93ee')\"\n",
              "              title=\"Convert this dataframe to an interactive table.\"\n",
              "              style=\"display:none;\">\n",
              "        \n",
              "  <svg xmlns=\"http://www.w3.org/2000/svg\" height=\"24px\"viewBox=\"0 0 24 24\"\n",
              "       width=\"24px\">\n",
              "    <path d=\"M0 0h24v24H0V0z\" fill=\"none\"/>\n",
              "    <path d=\"M18.56 5.44l.94 2.06.94-2.06 2.06-.94-2.06-.94-.94-2.06-.94 2.06-2.06.94zm-11 1L8.5 8.5l.94-2.06 2.06-.94-2.06-.94L8.5 2.5l-.94 2.06-2.06.94zm10 10l.94 2.06.94-2.06 2.06-.94-2.06-.94-.94-2.06-.94 2.06-2.06.94z\"/><path d=\"M17.41 7.96l-1.37-1.37c-.4-.4-.92-.59-1.43-.59-.52 0-1.04.2-1.43.59L10.3 9.45l-7.72 7.72c-.78.78-.78 2.05 0 2.83L4 21.41c.39.39.9.59 1.41.59.51 0 1.02-.2 1.41-.59l7.78-7.78 2.81-2.81c.8-.78.8-2.07 0-2.86zM5.41 20L4 18.59l7.72-7.72 1.47 1.35L5.41 20z\"/>\n",
              "  </svg>\n",
              "      </button>\n",
              "      \n",
              "  <style>\n",
              "    .colab-df-container {\n",
              "      display:flex;\n",
              "      flex-wrap:wrap;\n",
              "      gap: 12px;\n",
              "    }\n",
              "\n",
              "    .colab-df-convert {\n",
              "      background-color: #E8F0FE;\n",
              "      border: none;\n",
              "      border-radius: 50%;\n",
              "      cursor: pointer;\n",
              "      display: none;\n",
              "      fill: #1967D2;\n",
              "      height: 32px;\n",
              "      padding: 0 0 0 0;\n",
              "      width: 32px;\n",
              "    }\n",
              "\n",
              "    .colab-df-convert:hover {\n",
              "      background-color: #E2EBFA;\n",
              "      box-shadow: 0px 1px 2px rgba(60, 64, 67, 0.3), 0px 1px 3px 1px rgba(60, 64, 67, 0.15);\n",
              "      fill: #174EA6;\n",
              "    }\n",
              "\n",
              "    [theme=dark] .colab-df-convert {\n",
              "      background-color: #3B4455;\n",
              "      fill: #D2E3FC;\n",
              "    }\n",
              "\n",
              "    [theme=dark] .colab-df-convert:hover {\n",
              "      background-color: #434B5C;\n",
              "      box-shadow: 0px 1px 3px 1px rgba(0, 0, 0, 0.15);\n",
              "      filter: drop-shadow(0px 1px 2px rgba(0, 0, 0, 0.3));\n",
              "      fill: #FFFFFF;\n",
              "    }\n",
              "  </style>\n",
              "\n",
              "      <script>\n",
              "        const buttonEl =\n",
              "          document.querySelector('#df-3c3ea6f4-2a57-4b3d-b760-b80589eb93ee button.colab-df-convert');\n",
              "        buttonEl.style.display =\n",
              "          google.colab.kernel.accessAllowed ? 'block' : 'none';\n",
              "\n",
              "        async function convertToInteractive(key) {\n",
              "          const element = document.querySelector('#df-3c3ea6f4-2a57-4b3d-b760-b80589eb93ee');\n",
              "          const dataTable =\n",
              "            await google.colab.kernel.invokeFunction('convertToInteractive',\n",
              "                                                     [key], {});\n",
              "          if (!dataTable) return;\n",
              "\n",
              "          const docLinkHtml = 'Like what you see? Visit the ' +\n",
              "            '<a target=\"_blank\" href=https://colab.research.google.com/notebooks/data_table.ipynb>data table notebook</a>'\n",
              "            + ' to learn more about interactive tables.';\n",
              "          element.innerHTML = '';\n",
              "          dataTable['output_type'] = 'display_data';\n",
              "          await google.colab.output.renderOutput(dataTable, element);\n",
              "          const docLink = document.createElement('div');\n",
              "          docLink.innerHTML = docLinkHtml;\n",
              "          element.appendChild(docLink);\n",
              "        }\n",
              "      </script>\n",
              "    </div>\n",
              "  </div>\n",
              "  "
            ]
          },
          "metadata": {},
          "execution_count": 3
        }
      ]
    },
    {
      "cell_type": "markdown",
      "source": [
        "#objetivo: ¿cuál es el efecto de una arteria sobre el precio de la vivienda?"
      ],
      "metadata": {
        "id": "RLSyJVgnjfIP"
      }
    },
    {
      "cell_type": "code",
      "source": [
        "df.head(10)"
      ],
      "metadata": {
        "colab": {
          "base_uri": "https://localhost:8080/",
          "height": 363
        },
        "id": "IhBI3k4Km6f2",
        "outputId": "2245435d-09cc-46f7-848b-bd2c0fb07cbe"
      },
      "execution_count": 4,
      "outputs": [
        {
          "output_type": "execute_result",
          "data": {
            "text/plain": [
              "   LotArea  OverallQual  OverallCond  YearBuilt  YearRemodAdd  ExterQual  \\\n",
              "0     8450            7            5         19            19          4   \n",
              "1     9600            6            8         46            46          3   \n",
              "2    11250            7            5         21            20          4   \n",
              "3     9550            7            5        107            52          3   \n",
              "4    14260            8            5         22            22          4   \n",
              "5    14115            5            5         29            27          3   \n",
              "6    10084            8            5         18            17          4   \n",
              "7    10382            7            6         49            49          3   \n",
              "8     6120            7            5         91            72          3   \n",
              "9     7420            5            6         83            72          3   \n",
              "\n",
              "   ExterCond  BedroomAbvGr  GarageCars  PoolArea  SalePrice  Artery  \n",
              "0          3             3           2         0     208500       0  \n",
              "1          3             3           2         0     181500       0  \n",
              "2          3             3           2         0     223500       0  \n",
              "3          3             3           3         0     140000       0  \n",
              "4          3             4           3         0     250000       0  \n",
              "5          3             1           2         0     143000       0  \n",
              "6          3             3           2         0     307000       0  \n",
              "7          3             3           2         0     200000       0  \n",
              "8          3             2           2         0     129900       1  \n",
              "9          3             2           1         0     118000       1  "
            ],
            "text/html": [
              "\n",
              "  <div id=\"df-9f529083-69a0-44a4-8576-c55c04e0a15e\">\n",
              "    <div class=\"colab-df-container\">\n",
              "      <div>\n",
              "<style scoped>\n",
              "    .dataframe tbody tr th:only-of-type {\n",
              "        vertical-align: middle;\n",
              "    }\n",
              "\n",
              "    .dataframe tbody tr th {\n",
              "        vertical-align: top;\n",
              "    }\n",
              "\n",
              "    .dataframe thead th {\n",
              "        text-align: right;\n",
              "    }\n",
              "</style>\n",
              "<table border=\"1\" class=\"dataframe\">\n",
              "  <thead>\n",
              "    <tr style=\"text-align: right;\">\n",
              "      <th></th>\n",
              "      <th>LotArea</th>\n",
              "      <th>OverallQual</th>\n",
              "      <th>OverallCond</th>\n",
              "      <th>YearBuilt</th>\n",
              "      <th>YearRemodAdd</th>\n",
              "      <th>ExterQual</th>\n",
              "      <th>ExterCond</th>\n",
              "      <th>BedroomAbvGr</th>\n",
              "      <th>GarageCars</th>\n",
              "      <th>PoolArea</th>\n",
              "      <th>SalePrice</th>\n",
              "      <th>Artery</th>\n",
              "    </tr>\n",
              "  </thead>\n",
              "  <tbody>\n",
              "    <tr>\n",
              "      <th>0</th>\n",
              "      <td>8450</td>\n",
              "      <td>7</td>\n",
              "      <td>5</td>\n",
              "      <td>19</td>\n",
              "      <td>19</td>\n",
              "      <td>4</td>\n",
              "      <td>3</td>\n",
              "      <td>3</td>\n",
              "      <td>2</td>\n",
              "      <td>0</td>\n",
              "      <td>208500</td>\n",
              "      <td>0</td>\n",
              "    </tr>\n",
              "    <tr>\n",
              "      <th>1</th>\n",
              "      <td>9600</td>\n",
              "      <td>6</td>\n",
              "      <td>8</td>\n",
              "      <td>46</td>\n",
              "      <td>46</td>\n",
              "      <td>3</td>\n",
              "      <td>3</td>\n",
              "      <td>3</td>\n",
              "      <td>2</td>\n",
              "      <td>0</td>\n",
              "      <td>181500</td>\n",
              "      <td>0</td>\n",
              "    </tr>\n",
              "    <tr>\n",
              "      <th>2</th>\n",
              "      <td>11250</td>\n",
              "      <td>7</td>\n",
              "      <td>5</td>\n",
              "      <td>21</td>\n",
              "      <td>20</td>\n",
              "      <td>4</td>\n",
              "      <td>3</td>\n",
              "      <td>3</td>\n",
              "      <td>2</td>\n",
              "      <td>0</td>\n",
              "      <td>223500</td>\n",
              "      <td>0</td>\n",
              "    </tr>\n",
              "    <tr>\n",
              "      <th>3</th>\n",
              "      <td>9550</td>\n",
              "      <td>7</td>\n",
              "      <td>5</td>\n",
              "      <td>107</td>\n",
              "      <td>52</td>\n",
              "      <td>3</td>\n",
              "      <td>3</td>\n",
              "      <td>3</td>\n",
              "      <td>3</td>\n",
              "      <td>0</td>\n",
              "      <td>140000</td>\n",
              "      <td>0</td>\n",
              "    </tr>\n",
              "    <tr>\n",
              "      <th>4</th>\n",
              "      <td>14260</td>\n",
              "      <td>8</td>\n",
              "      <td>5</td>\n",
              "      <td>22</td>\n",
              "      <td>22</td>\n",
              "      <td>4</td>\n",
              "      <td>3</td>\n",
              "      <td>4</td>\n",
              "      <td>3</td>\n",
              "      <td>0</td>\n",
              "      <td>250000</td>\n",
              "      <td>0</td>\n",
              "    </tr>\n",
              "    <tr>\n",
              "      <th>5</th>\n",
              "      <td>14115</td>\n",
              "      <td>5</td>\n",
              "      <td>5</td>\n",
              "      <td>29</td>\n",
              "      <td>27</td>\n",
              "      <td>3</td>\n",
              "      <td>3</td>\n",
              "      <td>1</td>\n",
              "      <td>2</td>\n",
              "      <td>0</td>\n",
              "      <td>143000</td>\n",
              "      <td>0</td>\n",
              "    </tr>\n",
              "    <tr>\n",
              "      <th>6</th>\n",
              "      <td>10084</td>\n",
              "      <td>8</td>\n",
              "      <td>5</td>\n",
              "      <td>18</td>\n",
              "      <td>17</td>\n",
              "      <td>4</td>\n",
              "      <td>3</td>\n",
              "      <td>3</td>\n",
              "      <td>2</td>\n",
              "      <td>0</td>\n",
              "      <td>307000</td>\n",
              "      <td>0</td>\n",
              "    </tr>\n",
              "    <tr>\n",
              "      <th>7</th>\n",
              "      <td>10382</td>\n",
              "      <td>7</td>\n",
              "      <td>6</td>\n",
              "      <td>49</td>\n",
              "      <td>49</td>\n",
              "      <td>3</td>\n",
              "      <td>3</td>\n",
              "      <td>3</td>\n",
              "      <td>2</td>\n",
              "      <td>0</td>\n",
              "      <td>200000</td>\n",
              "      <td>0</td>\n",
              "    </tr>\n",
              "    <tr>\n",
              "      <th>8</th>\n",
              "      <td>6120</td>\n",
              "      <td>7</td>\n",
              "      <td>5</td>\n",
              "      <td>91</td>\n",
              "      <td>72</td>\n",
              "      <td>3</td>\n",
              "      <td>3</td>\n",
              "      <td>2</td>\n",
              "      <td>2</td>\n",
              "      <td>0</td>\n",
              "      <td>129900</td>\n",
              "      <td>1</td>\n",
              "    </tr>\n",
              "    <tr>\n",
              "      <th>9</th>\n",
              "      <td>7420</td>\n",
              "      <td>5</td>\n",
              "      <td>6</td>\n",
              "      <td>83</td>\n",
              "      <td>72</td>\n",
              "      <td>3</td>\n",
              "      <td>3</td>\n",
              "      <td>2</td>\n",
              "      <td>1</td>\n",
              "      <td>0</td>\n",
              "      <td>118000</td>\n",
              "      <td>1</td>\n",
              "    </tr>\n",
              "  </tbody>\n",
              "</table>\n",
              "</div>\n",
              "      <button class=\"colab-df-convert\" onclick=\"convertToInteractive('df-9f529083-69a0-44a4-8576-c55c04e0a15e')\"\n",
              "              title=\"Convert this dataframe to an interactive table.\"\n",
              "              style=\"display:none;\">\n",
              "        \n",
              "  <svg xmlns=\"http://www.w3.org/2000/svg\" height=\"24px\"viewBox=\"0 0 24 24\"\n",
              "       width=\"24px\">\n",
              "    <path d=\"M0 0h24v24H0V0z\" fill=\"none\"/>\n",
              "    <path d=\"M18.56 5.44l.94 2.06.94-2.06 2.06-.94-2.06-.94-.94-2.06-.94 2.06-2.06.94zm-11 1L8.5 8.5l.94-2.06 2.06-.94-2.06-.94L8.5 2.5l-.94 2.06-2.06.94zm10 10l.94 2.06.94-2.06 2.06-.94-2.06-.94-.94-2.06-.94 2.06-2.06.94z\"/><path d=\"M17.41 7.96l-1.37-1.37c-.4-.4-.92-.59-1.43-.59-.52 0-1.04.2-1.43.59L10.3 9.45l-7.72 7.72c-.78.78-.78 2.05 0 2.83L4 21.41c.39.39.9.59 1.41.59.51 0 1.02-.2 1.41-.59l7.78-7.78 2.81-2.81c.8-.78.8-2.07 0-2.86zM5.41 20L4 18.59l7.72-7.72 1.47 1.35L5.41 20z\"/>\n",
              "  </svg>\n",
              "      </button>\n",
              "      \n",
              "  <style>\n",
              "    .colab-df-container {\n",
              "      display:flex;\n",
              "      flex-wrap:wrap;\n",
              "      gap: 12px;\n",
              "    }\n",
              "\n",
              "    .colab-df-convert {\n",
              "      background-color: #E8F0FE;\n",
              "      border: none;\n",
              "      border-radius: 50%;\n",
              "      cursor: pointer;\n",
              "      display: none;\n",
              "      fill: #1967D2;\n",
              "      height: 32px;\n",
              "      padding: 0 0 0 0;\n",
              "      width: 32px;\n",
              "    }\n",
              "\n",
              "    .colab-df-convert:hover {\n",
              "      background-color: #E2EBFA;\n",
              "      box-shadow: 0px 1px 2px rgba(60, 64, 67, 0.3), 0px 1px 3px 1px rgba(60, 64, 67, 0.15);\n",
              "      fill: #174EA6;\n",
              "    }\n",
              "\n",
              "    [theme=dark] .colab-df-convert {\n",
              "      background-color: #3B4455;\n",
              "      fill: #D2E3FC;\n",
              "    }\n",
              "\n",
              "    [theme=dark] .colab-df-convert:hover {\n",
              "      background-color: #434B5C;\n",
              "      box-shadow: 0px 1px 3px 1px rgba(0, 0, 0, 0.15);\n",
              "      filter: drop-shadow(0px 1px 2px rgba(0, 0, 0, 0.3));\n",
              "      fill: #FFFFFF;\n",
              "    }\n",
              "  </style>\n",
              "\n",
              "      <script>\n",
              "        const buttonEl =\n",
              "          document.querySelector('#df-9f529083-69a0-44a4-8576-c55c04e0a15e button.colab-df-convert');\n",
              "        buttonEl.style.display =\n",
              "          google.colab.kernel.accessAllowed ? 'block' : 'none';\n",
              "\n",
              "        async function convertToInteractive(key) {\n",
              "          const element = document.querySelector('#df-9f529083-69a0-44a4-8576-c55c04e0a15e');\n",
              "          const dataTable =\n",
              "            await google.colab.kernel.invokeFunction('convertToInteractive',\n",
              "                                                     [key], {});\n",
              "          if (!dataTable) return;\n",
              "\n",
              "          const docLinkHtml = 'Like what you see? Visit the ' +\n",
              "            '<a target=\"_blank\" href=https://colab.research.google.com/notebooks/data_table.ipynb>data table notebook</a>'\n",
              "            + ' to learn more about interactive tables.';\n",
              "          element.innerHTML = '';\n",
              "          dataTable['output_type'] = 'display_data';\n",
              "          await google.colab.output.renderOutput(dataTable, element);\n",
              "          const docLink = document.createElement('div');\n",
              "          docLink.innerHTML = docLinkHtml;\n",
              "          element.appendChild(docLink);\n",
              "        }\n",
              "      </script>\n",
              "    </div>\n",
              "  </div>\n",
              "  "
            ]
          },
          "metadata": {},
          "execution_count": 4
        }
      ]
    },
    {
      "cell_type": "markdown",
      "source": [
        "conclusion:"
      ],
      "metadata": {
        "id": "mmuEwEk4naF1"
      }
    },
    {
      "cell_type": "code",
      "source": [
        "df.tail(10)"
      ],
      "metadata": {
        "colab": {
          "base_uri": "https://localhost:8080/",
          "height": 363
        },
        "id": "9P4xfU_Um7iH",
        "outputId": "f7e4593c-6fc3-4a6c-f75e-59cc8e2038ed"
      },
      "execution_count": 5,
      "outputs": [
        {
          "output_type": "execute_result",
          "data": {
            "text/plain": [
              "      LotArea  OverallQual  OverallCond  YearBuilt  YearRemodAdd  ExterQual  \\\n",
              "1450     9000            5            5         48            48          3   \n",
              "1451     9262            8            5         14            13          4   \n",
              "1452     3675            5            5         17            17          3   \n",
              "1453    17217            5            5         16            16          3   \n",
              "1454     7500            7            5         18            17          4   \n",
              "1455     7917            6            5         23            22          3   \n",
              "1456    13175            6            6         44            34          3   \n",
              "1457     9042            7            9         81            16          5   \n",
              "1458     9717            5            6         72            26          3   \n",
              "1459     9937            5            6         57            57          4   \n",
              "\n",
              "      ExterCond  BedroomAbvGr  GarageCars  PoolArea  SalePrice  Artery  \n",
              "1450          3             4           0         0     136000       0  \n",
              "1451          3             3           3         0     287090       0  \n",
              "1452          3             2           2         0     145000       0  \n",
              "1453          3             3           0         0      84500       0  \n",
              "1454          3             2           2         0     185000       0  \n",
              "1455          3             3           2         0     175000       0  \n",
              "1456          3             3           2         0     210000       0  \n",
              "1457          4             4           1         0     266500       0  \n",
              "1458          3             2           1         0     142125       0  \n",
              "1459          3             3           1         0     147500       0  "
            ],
            "text/html": [
              "\n",
              "  <div id=\"df-050cc581-56fe-4a85-88ab-c9a723988b52\">\n",
              "    <div class=\"colab-df-container\">\n",
              "      <div>\n",
              "<style scoped>\n",
              "    .dataframe tbody tr th:only-of-type {\n",
              "        vertical-align: middle;\n",
              "    }\n",
              "\n",
              "    .dataframe tbody tr th {\n",
              "        vertical-align: top;\n",
              "    }\n",
              "\n",
              "    .dataframe thead th {\n",
              "        text-align: right;\n",
              "    }\n",
              "</style>\n",
              "<table border=\"1\" class=\"dataframe\">\n",
              "  <thead>\n",
              "    <tr style=\"text-align: right;\">\n",
              "      <th></th>\n",
              "      <th>LotArea</th>\n",
              "      <th>OverallQual</th>\n",
              "      <th>OverallCond</th>\n",
              "      <th>YearBuilt</th>\n",
              "      <th>YearRemodAdd</th>\n",
              "      <th>ExterQual</th>\n",
              "      <th>ExterCond</th>\n",
              "      <th>BedroomAbvGr</th>\n",
              "      <th>GarageCars</th>\n",
              "      <th>PoolArea</th>\n",
              "      <th>SalePrice</th>\n",
              "      <th>Artery</th>\n",
              "    </tr>\n",
              "  </thead>\n",
              "  <tbody>\n",
              "    <tr>\n",
              "      <th>1450</th>\n",
              "      <td>9000</td>\n",
              "      <td>5</td>\n",
              "      <td>5</td>\n",
              "      <td>48</td>\n",
              "      <td>48</td>\n",
              "      <td>3</td>\n",
              "      <td>3</td>\n",
              "      <td>4</td>\n",
              "      <td>0</td>\n",
              "      <td>0</td>\n",
              "      <td>136000</td>\n",
              "      <td>0</td>\n",
              "    </tr>\n",
              "    <tr>\n",
              "      <th>1451</th>\n",
              "      <td>9262</td>\n",
              "      <td>8</td>\n",
              "      <td>5</td>\n",
              "      <td>14</td>\n",
              "      <td>13</td>\n",
              "      <td>4</td>\n",
              "      <td>3</td>\n",
              "      <td>3</td>\n",
              "      <td>3</td>\n",
              "      <td>0</td>\n",
              "      <td>287090</td>\n",
              "      <td>0</td>\n",
              "    </tr>\n",
              "    <tr>\n",
              "      <th>1452</th>\n",
              "      <td>3675</td>\n",
              "      <td>5</td>\n",
              "      <td>5</td>\n",
              "      <td>17</td>\n",
              "      <td>17</td>\n",
              "      <td>3</td>\n",
              "      <td>3</td>\n",
              "      <td>2</td>\n",
              "      <td>2</td>\n",
              "      <td>0</td>\n",
              "      <td>145000</td>\n",
              "      <td>0</td>\n",
              "    </tr>\n",
              "    <tr>\n",
              "      <th>1453</th>\n",
              "      <td>17217</td>\n",
              "      <td>5</td>\n",
              "      <td>5</td>\n",
              "      <td>16</td>\n",
              "      <td>16</td>\n",
              "      <td>3</td>\n",
              "      <td>3</td>\n",
              "      <td>3</td>\n",
              "      <td>0</td>\n",
              "      <td>0</td>\n",
              "      <td>84500</td>\n",
              "      <td>0</td>\n",
              "    </tr>\n",
              "    <tr>\n",
              "      <th>1454</th>\n",
              "      <td>7500</td>\n",
              "      <td>7</td>\n",
              "      <td>5</td>\n",
              "      <td>18</td>\n",
              "      <td>17</td>\n",
              "      <td>4</td>\n",
              "      <td>3</td>\n",
              "      <td>2</td>\n",
              "      <td>2</td>\n",
              "      <td>0</td>\n",
              "      <td>185000</td>\n",
              "      <td>0</td>\n",
              "    </tr>\n",
              "    <tr>\n",
              "      <th>1455</th>\n",
              "      <td>7917</td>\n",
              "      <td>6</td>\n",
              "      <td>5</td>\n",
              "      <td>23</td>\n",
              "      <td>22</td>\n",
              "      <td>3</td>\n",
              "      <td>3</td>\n",
              "      <td>3</td>\n",
              "      <td>2</td>\n",
              "      <td>0</td>\n",
              "      <td>175000</td>\n",
              "      <td>0</td>\n",
              "    </tr>\n",
              "    <tr>\n",
              "      <th>1456</th>\n",
              "      <td>13175</td>\n",
              "      <td>6</td>\n",
              "      <td>6</td>\n",
              "      <td>44</td>\n",
              "      <td>34</td>\n",
              "      <td>3</td>\n",
              "      <td>3</td>\n",
              "      <td>3</td>\n",
              "      <td>2</td>\n",
              "      <td>0</td>\n",
              "      <td>210000</td>\n",
              "      <td>0</td>\n",
              "    </tr>\n",
              "    <tr>\n",
              "      <th>1457</th>\n",
              "      <td>9042</td>\n",
              "      <td>7</td>\n",
              "      <td>9</td>\n",
              "      <td>81</td>\n",
              "      <td>16</td>\n",
              "      <td>5</td>\n",
              "      <td>4</td>\n",
              "      <td>4</td>\n",
              "      <td>1</td>\n",
              "      <td>0</td>\n",
              "      <td>266500</td>\n",
              "      <td>0</td>\n",
              "    </tr>\n",
              "    <tr>\n",
              "      <th>1458</th>\n",
              "      <td>9717</td>\n",
              "      <td>5</td>\n",
              "      <td>6</td>\n",
              "      <td>72</td>\n",
              "      <td>26</td>\n",
              "      <td>3</td>\n",
              "      <td>3</td>\n",
              "      <td>2</td>\n",
              "      <td>1</td>\n",
              "      <td>0</td>\n",
              "      <td>142125</td>\n",
              "      <td>0</td>\n",
              "    </tr>\n",
              "    <tr>\n",
              "      <th>1459</th>\n",
              "      <td>9937</td>\n",
              "      <td>5</td>\n",
              "      <td>6</td>\n",
              "      <td>57</td>\n",
              "      <td>57</td>\n",
              "      <td>4</td>\n",
              "      <td>3</td>\n",
              "      <td>3</td>\n",
              "      <td>1</td>\n",
              "      <td>0</td>\n",
              "      <td>147500</td>\n",
              "      <td>0</td>\n",
              "    </tr>\n",
              "  </tbody>\n",
              "</table>\n",
              "</div>\n",
              "      <button class=\"colab-df-convert\" onclick=\"convertToInteractive('df-050cc581-56fe-4a85-88ab-c9a723988b52')\"\n",
              "              title=\"Convert this dataframe to an interactive table.\"\n",
              "              style=\"display:none;\">\n",
              "        \n",
              "  <svg xmlns=\"http://www.w3.org/2000/svg\" height=\"24px\"viewBox=\"0 0 24 24\"\n",
              "       width=\"24px\">\n",
              "    <path d=\"M0 0h24v24H0V0z\" fill=\"none\"/>\n",
              "    <path d=\"M18.56 5.44l.94 2.06.94-2.06 2.06-.94-2.06-.94-.94-2.06-.94 2.06-2.06.94zm-11 1L8.5 8.5l.94-2.06 2.06-.94-2.06-.94L8.5 2.5l-.94 2.06-2.06.94zm10 10l.94 2.06.94-2.06 2.06-.94-2.06-.94-.94-2.06-.94 2.06-2.06.94z\"/><path d=\"M17.41 7.96l-1.37-1.37c-.4-.4-.92-.59-1.43-.59-.52 0-1.04.2-1.43.59L10.3 9.45l-7.72 7.72c-.78.78-.78 2.05 0 2.83L4 21.41c.39.39.9.59 1.41.59.51 0 1.02-.2 1.41-.59l7.78-7.78 2.81-2.81c.8-.78.8-2.07 0-2.86zM5.41 20L4 18.59l7.72-7.72 1.47 1.35L5.41 20z\"/>\n",
              "  </svg>\n",
              "      </button>\n",
              "      \n",
              "  <style>\n",
              "    .colab-df-container {\n",
              "      display:flex;\n",
              "      flex-wrap:wrap;\n",
              "      gap: 12px;\n",
              "    }\n",
              "\n",
              "    .colab-df-convert {\n",
              "      background-color: #E8F0FE;\n",
              "      border: none;\n",
              "      border-radius: 50%;\n",
              "      cursor: pointer;\n",
              "      display: none;\n",
              "      fill: #1967D2;\n",
              "      height: 32px;\n",
              "      padding: 0 0 0 0;\n",
              "      width: 32px;\n",
              "    }\n",
              "\n",
              "    .colab-df-convert:hover {\n",
              "      background-color: #E2EBFA;\n",
              "      box-shadow: 0px 1px 2px rgba(60, 64, 67, 0.3), 0px 1px 3px 1px rgba(60, 64, 67, 0.15);\n",
              "      fill: #174EA6;\n",
              "    }\n",
              "\n",
              "    [theme=dark] .colab-df-convert {\n",
              "      background-color: #3B4455;\n",
              "      fill: #D2E3FC;\n",
              "    }\n",
              "\n",
              "    [theme=dark] .colab-df-convert:hover {\n",
              "      background-color: #434B5C;\n",
              "      box-shadow: 0px 1px 3px 1px rgba(0, 0, 0, 0.15);\n",
              "      filter: drop-shadow(0px 1px 2px rgba(0, 0, 0, 0.3));\n",
              "      fill: #FFFFFF;\n",
              "    }\n",
              "  </style>\n",
              "\n",
              "      <script>\n",
              "        const buttonEl =\n",
              "          document.querySelector('#df-050cc581-56fe-4a85-88ab-c9a723988b52 button.colab-df-convert');\n",
              "        buttonEl.style.display =\n",
              "          google.colab.kernel.accessAllowed ? 'block' : 'none';\n",
              "\n",
              "        async function convertToInteractive(key) {\n",
              "          const element = document.querySelector('#df-050cc581-56fe-4a85-88ab-c9a723988b52');\n",
              "          const dataTable =\n",
              "            await google.colab.kernel.invokeFunction('convertToInteractive',\n",
              "                                                     [key], {});\n",
              "          if (!dataTable) return;\n",
              "\n",
              "          const docLinkHtml = 'Like what you see? Visit the ' +\n",
              "            '<a target=\"_blank\" href=https://colab.research.google.com/notebooks/data_table.ipynb>data table notebook</a>'\n",
              "            + ' to learn more about interactive tables.';\n",
              "          element.innerHTML = '';\n",
              "          dataTable['output_type'] = 'display_data';\n",
              "          await google.colab.output.renderOutput(dataTable, element);\n",
              "          const docLink = document.createElement('div');\n",
              "          docLink.innerHTML = docLinkHtml;\n",
              "          element.appendChild(docLink);\n",
              "        }\n",
              "      </script>\n",
              "    </div>\n",
              "  </div>\n",
              "  "
            ]
          },
          "metadata": {},
          "execution_count": 5
        }
      ]
    },
    {
      "cell_type": "code",
      "source": [
        "conclusion:"
      ],
      "metadata": {
        "id": "iydONGlam84-"
      },
      "execution_count": null,
      "outputs": []
    },
    {
      "cell_type": "code",
      "source": [
        "df.info()"
      ],
      "metadata": {
        "colab": {
          "base_uri": "https://localhost:8080/"
        },
        "id": "8mT4WAucn4bD",
        "outputId": "c9b3cae1-552a-41dd-e8f0-70a360432cb7"
      },
      "execution_count": 6,
      "outputs": [
        {
          "output_type": "stream",
          "name": "stdout",
          "text": [
            "<class 'pandas.core.frame.DataFrame'>\n",
            "RangeIndex: 1460 entries, 0 to 1459\n",
            "Data columns (total 12 columns):\n",
            " #   Column        Non-Null Count  Dtype\n",
            "---  ------        --------------  -----\n",
            " 0   LotArea       1460 non-null   int64\n",
            " 1   OverallQual   1460 non-null   int64\n",
            " 2   OverallCond   1460 non-null   int64\n",
            " 3   YearBuilt     1460 non-null   int64\n",
            " 4   YearRemodAdd  1460 non-null   int64\n",
            " 5   ExterQual     1460 non-null   int64\n",
            " 6   ExterCond     1460 non-null   int64\n",
            " 7   BedroomAbvGr  1460 non-null   int64\n",
            " 8   GarageCars    1460 non-null   int64\n",
            " 9   PoolArea      1460 non-null   int64\n",
            " 10  SalePrice     1460 non-null   int64\n",
            " 11  Artery        1460 non-null   int64\n",
            "dtypes: int64(12)\n",
            "memory usage: 137.0 KB\n"
          ]
        }
      ]
    },
    {
      "cell_type": "code",
      "source": [
        "df.describe()"
      ],
      "metadata": {
        "colab": {
          "base_uri": "https://localhost:8080/",
          "height": 364
        },
        "id": "-Mqq0_MxptPr",
        "outputId": "0865e4bd-9f57-406f-d74f-153ea18c921e"
      },
      "execution_count": 7,
      "outputs": [
        {
          "output_type": "execute_result",
          "data": {
            "text/plain": [
              "             LotArea  OverallQual  OverallCond    YearBuilt  YearRemodAdd  \\\n",
              "count    1460.000000  1460.000000  1460.000000  1460.000000   1460.000000   \n",
              "mean    10516.828082     6.099315     5.575342    50.732192     37.134247   \n",
              "std      9981.264932     1.382997     1.112799    30.202904     20.645407   \n",
              "min      1300.000000     1.000000     1.000000    12.000000     12.000000   \n",
              "25%      7553.500000     5.000000     5.000000    22.000000     18.000000   \n",
              "50%      9478.500000     6.000000     5.000000    49.000000     28.000000   \n",
              "75%     11601.500000     7.000000     6.000000    68.000000     55.000000   \n",
              "max    215245.000000    10.000000     9.000000   150.000000     72.000000   \n",
              "\n",
              "        ExterQual    ExterCond  BedroomAbvGr   GarageCars     PoolArea  \\\n",
              "count  1460.00000  1460.000000   1460.000000  1460.000000  1460.000000   \n",
              "mean      3.39589     3.083562      2.866438     1.767123     2.758904   \n",
              "std       0.57428     0.351054      0.815778     0.747315    40.177307   \n",
              "min       2.00000     1.000000      0.000000     0.000000     0.000000   \n",
              "25%       3.00000     3.000000      2.000000     1.000000     0.000000   \n",
              "50%       3.00000     3.000000      3.000000     2.000000     0.000000   \n",
              "75%       4.00000     3.000000      3.000000     2.000000     0.000000   \n",
              "max       5.00000     5.000000      8.000000     4.000000   738.000000   \n",
              "\n",
              "           SalePrice       Artery  \n",
              "count    1460.000000  1460.000000  \n",
              "mean   180921.195890     0.032877  \n",
              "std     79442.502883     0.178375  \n",
              "min     34900.000000     0.000000  \n",
              "25%    129975.000000     0.000000  \n",
              "50%    163000.000000     0.000000  \n",
              "75%    214000.000000     0.000000  \n",
              "max    755000.000000     1.000000  "
            ],
            "text/html": [
              "\n",
              "  <div id=\"df-8a1c5e6f-53f0-447e-a08e-729b6ea29e79\">\n",
              "    <div class=\"colab-df-container\">\n",
              "      <div>\n",
              "<style scoped>\n",
              "    .dataframe tbody tr th:only-of-type {\n",
              "        vertical-align: middle;\n",
              "    }\n",
              "\n",
              "    .dataframe tbody tr th {\n",
              "        vertical-align: top;\n",
              "    }\n",
              "\n",
              "    .dataframe thead th {\n",
              "        text-align: right;\n",
              "    }\n",
              "</style>\n",
              "<table border=\"1\" class=\"dataframe\">\n",
              "  <thead>\n",
              "    <tr style=\"text-align: right;\">\n",
              "      <th></th>\n",
              "      <th>LotArea</th>\n",
              "      <th>OverallQual</th>\n",
              "      <th>OverallCond</th>\n",
              "      <th>YearBuilt</th>\n",
              "      <th>YearRemodAdd</th>\n",
              "      <th>ExterQual</th>\n",
              "      <th>ExterCond</th>\n",
              "      <th>BedroomAbvGr</th>\n",
              "      <th>GarageCars</th>\n",
              "      <th>PoolArea</th>\n",
              "      <th>SalePrice</th>\n",
              "      <th>Artery</th>\n",
              "    </tr>\n",
              "  </thead>\n",
              "  <tbody>\n",
              "    <tr>\n",
              "      <th>count</th>\n",
              "      <td>1460.000000</td>\n",
              "      <td>1460.000000</td>\n",
              "      <td>1460.000000</td>\n",
              "      <td>1460.000000</td>\n",
              "      <td>1460.000000</td>\n",
              "      <td>1460.00000</td>\n",
              "      <td>1460.000000</td>\n",
              "      <td>1460.000000</td>\n",
              "      <td>1460.000000</td>\n",
              "      <td>1460.000000</td>\n",
              "      <td>1460.000000</td>\n",
              "      <td>1460.000000</td>\n",
              "    </tr>\n",
              "    <tr>\n",
              "      <th>mean</th>\n",
              "      <td>10516.828082</td>\n",
              "      <td>6.099315</td>\n",
              "      <td>5.575342</td>\n",
              "      <td>50.732192</td>\n",
              "      <td>37.134247</td>\n",
              "      <td>3.39589</td>\n",
              "      <td>3.083562</td>\n",
              "      <td>2.866438</td>\n",
              "      <td>1.767123</td>\n",
              "      <td>2.758904</td>\n",
              "      <td>180921.195890</td>\n",
              "      <td>0.032877</td>\n",
              "    </tr>\n",
              "    <tr>\n",
              "      <th>std</th>\n",
              "      <td>9981.264932</td>\n",
              "      <td>1.382997</td>\n",
              "      <td>1.112799</td>\n",
              "      <td>30.202904</td>\n",
              "      <td>20.645407</td>\n",
              "      <td>0.57428</td>\n",
              "      <td>0.351054</td>\n",
              "      <td>0.815778</td>\n",
              "      <td>0.747315</td>\n",
              "      <td>40.177307</td>\n",
              "      <td>79442.502883</td>\n",
              "      <td>0.178375</td>\n",
              "    </tr>\n",
              "    <tr>\n",
              "      <th>min</th>\n",
              "      <td>1300.000000</td>\n",
              "      <td>1.000000</td>\n",
              "      <td>1.000000</td>\n",
              "      <td>12.000000</td>\n",
              "      <td>12.000000</td>\n",
              "      <td>2.00000</td>\n",
              "      <td>1.000000</td>\n",
              "      <td>0.000000</td>\n",
              "      <td>0.000000</td>\n",
              "      <td>0.000000</td>\n",
              "      <td>34900.000000</td>\n",
              "      <td>0.000000</td>\n",
              "    </tr>\n",
              "    <tr>\n",
              "      <th>25%</th>\n",
              "      <td>7553.500000</td>\n",
              "      <td>5.000000</td>\n",
              "      <td>5.000000</td>\n",
              "      <td>22.000000</td>\n",
              "      <td>18.000000</td>\n",
              "      <td>3.00000</td>\n",
              "      <td>3.000000</td>\n",
              "      <td>2.000000</td>\n",
              "      <td>1.000000</td>\n",
              "      <td>0.000000</td>\n",
              "      <td>129975.000000</td>\n",
              "      <td>0.000000</td>\n",
              "    </tr>\n",
              "    <tr>\n",
              "      <th>50%</th>\n",
              "      <td>9478.500000</td>\n",
              "      <td>6.000000</td>\n",
              "      <td>5.000000</td>\n",
              "      <td>49.000000</td>\n",
              "      <td>28.000000</td>\n",
              "      <td>3.00000</td>\n",
              "      <td>3.000000</td>\n",
              "      <td>3.000000</td>\n",
              "      <td>2.000000</td>\n",
              "      <td>0.000000</td>\n",
              "      <td>163000.000000</td>\n",
              "      <td>0.000000</td>\n",
              "    </tr>\n",
              "    <tr>\n",
              "      <th>75%</th>\n",
              "      <td>11601.500000</td>\n",
              "      <td>7.000000</td>\n",
              "      <td>6.000000</td>\n",
              "      <td>68.000000</td>\n",
              "      <td>55.000000</td>\n",
              "      <td>4.00000</td>\n",
              "      <td>3.000000</td>\n",
              "      <td>3.000000</td>\n",
              "      <td>2.000000</td>\n",
              "      <td>0.000000</td>\n",
              "      <td>214000.000000</td>\n",
              "      <td>0.000000</td>\n",
              "    </tr>\n",
              "    <tr>\n",
              "      <th>max</th>\n",
              "      <td>215245.000000</td>\n",
              "      <td>10.000000</td>\n",
              "      <td>9.000000</td>\n",
              "      <td>150.000000</td>\n",
              "      <td>72.000000</td>\n",
              "      <td>5.00000</td>\n",
              "      <td>5.000000</td>\n",
              "      <td>8.000000</td>\n",
              "      <td>4.000000</td>\n",
              "      <td>738.000000</td>\n",
              "      <td>755000.000000</td>\n",
              "      <td>1.000000</td>\n",
              "    </tr>\n",
              "  </tbody>\n",
              "</table>\n",
              "</div>\n",
              "      <button class=\"colab-df-convert\" onclick=\"convertToInteractive('df-8a1c5e6f-53f0-447e-a08e-729b6ea29e79')\"\n",
              "              title=\"Convert this dataframe to an interactive table.\"\n",
              "              style=\"display:none;\">\n",
              "        \n",
              "  <svg xmlns=\"http://www.w3.org/2000/svg\" height=\"24px\"viewBox=\"0 0 24 24\"\n",
              "       width=\"24px\">\n",
              "    <path d=\"M0 0h24v24H0V0z\" fill=\"none\"/>\n",
              "    <path d=\"M18.56 5.44l.94 2.06.94-2.06 2.06-.94-2.06-.94-.94-2.06-.94 2.06-2.06.94zm-11 1L8.5 8.5l.94-2.06 2.06-.94-2.06-.94L8.5 2.5l-.94 2.06-2.06.94zm10 10l.94 2.06.94-2.06 2.06-.94-2.06-.94-.94-2.06-.94 2.06-2.06.94z\"/><path d=\"M17.41 7.96l-1.37-1.37c-.4-.4-.92-.59-1.43-.59-.52 0-1.04.2-1.43.59L10.3 9.45l-7.72 7.72c-.78.78-.78 2.05 0 2.83L4 21.41c.39.39.9.59 1.41.59.51 0 1.02-.2 1.41-.59l7.78-7.78 2.81-2.81c.8-.78.8-2.07 0-2.86zM5.41 20L4 18.59l7.72-7.72 1.47 1.35L5.41 20z\"/>\n",
              "  </svg>\n",
              "      </button>\n",
              "      \n",
              "  <style>\n",
              "    .colab-df-container {\n",
              "      display:flex;\n",
              "      flex-wrap:wrap;\n",
              "      gap: 12px;\n",
              "    }\n",
              "\n",
              "    .colab-df-convert {\n",
              "      background-color: #E8F0FE;\n",
              "      border: none;\n",
              "      border-radius: 50%;\n",
              "      cursor: pointer;\n",
              "      display: none;\n",
              "      fill: #1967D2;\n",
              "      height: 32px;\n",
              "      padding: 0 0 0 0;\n",
              "      width: 32px;\n",
              "    }\n",
              "\n",
              "    .colab-df-convert:hover {\n",
              "      background-color: #E2EBFA;\n",
              "      box-shadow: 0px 1px 2px rgba(60, 64, 67, 0.3), 0px 1px 3px 1px rgba(60, 64, 67, 0.15);\n",
              "      fill: #174EA6;\n",
              "    }\n",
              "\n",
              "    [theme=dark] .colab-df-convert {\n",
              "      background-color: #3B4455;\n",
              "      fill: #D2E3FC;\n",
              "    }\n",
              "\n",
              "    [theme=dark] .colab-df-convert:hover {\n",
              "      background-color: #434B5C;\n",
              "      box-shadow: 0px 1px 3px 1px rgba(0, 0, 0, 0.15);\n",
              "      filter: drop-shadow(0px 1px 2px rgba(0, 0, 0, 0.3));\n",
              "      fill: #FFFFFF;\n",
              "    }\n",
              "  </style>\n",
              "\n",
              "      <script>\n",
              "        const buttonEl =\n",
              "          document.querySelector('#df-8a1c5e6f-53f0-447e-a08e-729b6ea29e79 button.colab-df-convert');\n",
              "        buttonEl.style.display =\n",
              "          google.colab.kernel.accessAllowed ? 'block' : 'none';\n",
              "\n",
              "        async function convertToInteractive(key) {\n",
              "          const element = document.querySelector('#df-8a1c5e6f-53f0-447e-a08e-729b6ea29e79');\n",
              "          const dataTable =\n",
              "            await google.colab.kernel.invokeFunction('convertToInteractive',\n",
              "                                                     [key], {});\n",
              "          if (!dataTable) return;\n",
              "\n",
              "          const docLinkHtml = 'Like what you see? Visit the ' +\n",
              "            '<a target=\"_blank\" href=https://colab.research.google.com/notebooks/data_table.ipynb>data table notebook</a>'\n",
              "            + ' to learn more about interactive tables.';\n",
              "          element.innerHTML = '';\n",
              "          dataTable['output_type'] = 'display_data';\n",
              "          await google.colab.output.renderOutput(dataTable, element);\n",
              "          const docLink = document.createElement('div');\n",
              "          docLink.innerHTML = docLinkHtml;\n",
              "          element.appendChild(docLink);\n",
              "        }\n",
              "      </script>\n",
              "    </div>\n",
              "  </div>\n",
              "  "
            ]
          },
          "metadata": {},
          "execution_count": 7
        }
      ]
    },
    {
      "cell_type": "markdown",
      "source": [
        "conclusion:"
      ],
      "metadata": {
        "id": "bzQq8xRHn7ds"
      }
    },
    {
      "cell_type": "code",
      "source": [
        "df.isna().sum() "
      ],
      "metadata": {
        "colab": {
          "base_uri": "https://localhost:8080/"
        },
        "id": "nE-VXRF2n5FN",
        "outputId": "389ed5d5-e92a-46e8-c0a3-9931492276fd"
      },
      "execution_count": 8,
      "outputs": [
        {
          "output_type": "execute_result",
          "data": {
            "text/plain": [
              "LotArea         0\n",
              "OverallQual     0\n",
              "OverallCond     0\n",
              "YearBuilt       0\n",
              "YearRemodAdd    0\n",
              "ExterQual       0\n",
              "ExterCond       0\n",
              "BedroomAbvGr    0\n",
              "GarageCars      0\n",
              "PoolArea        0\n",
              "SalePrice       0\n",
              "Artery          0\n",
              "dtype: int64"
            ]
          },
          "metadata": {},
          "execution_count": 8
        }
      ]
    },
    {
      "cell_type": "code",
      "source": [
        "df.duplicated().sum()"
      ],
      "metadata": {
        "colab": {
          "base_uri": "https://localhost:8080/"
        },
        "id": "SNgoPMkLpKGr",
        "outputId": "228f7a24-c812-452c-d589-98b93e381c20"
      },
      "execution_count": 9,
      "outputs": [
        {
          "output_type": "execute_result",
          "data": {
            "text/plain": [
              "0"
            ]
          },
          "metadata": {},
          "execution_count": 9
        }
      ]
    },
    {
      "cell_type": "code",
      "source": [
        "df.isna().sum()"
      ],
      "metadata": {
        "colab": {
          "base_uri": "https://localhost:8080/"
        },
        "id": "3XqjNEH2qYQZ",
        "outputId": "10512e85-2829-428f-ed61-6f0a6e2ce4ec"
      },
      "execution_count": 10,
      "outputs": [
        {
          "output_type": "execute_result",
          "data": {
            "text/plain": [
              "LotArea         0\n",
              "OverallQual     0\n",
              "OverallCond     0\n",
              "YearBuilt       0\n",
              "YearRemodAdd    0\n",
              "ExterQual       0\n",
              "ExterCond       0\n",
              "BedroomAbvGr    0\n",
              "GarageCars      0\n",
              "PoolArea        0\n",
              "SalePrice       0\n",
              "Artery          0\n",
              "dtype: int64"
            ]
          },
          "metadata": {},
          "execution_count": 10
        }
      ]
    },
    {
      "cell_type": "markdown",
      "source": [
        "##Visualización de datos"
      ],
      "metadata": {
        "id": "-prKeUCKrGdO"
      }
    },
    {
      "cell_type": "markdown",
      "source": [
        "#Visualización univariada"
      ],
      "metadata": {
        "id": "1WPg90FNsRpD"
      }
    },
    {
      "cell_type": "code",
      "source": [
        "plt.hist(df['LotArea'])"
      ],
      "metadata": {
        "colab": {
          "base_uri": "https://localhost:8080/",
          "height": 352
        },
        "id": "29aqEVbCqaLB",
        "outputId": "5ca44596-c92d-4c49-cc16-42d1472d26f7"
      },
      "execution_count": 11,
      "outputs": [
        {
          "output_type": "execute_result",
          "data": {
            "text/plain": [
              "(array([1.423e+03, 2.400e+01, 8.000e+00, 1.000e+00, 0.000e+00, 1.000e+00,\n",
              "        0.000e+00, 2.000e+00, 0.000e+00, 1.000e+00]),\n",
              " array([  1300. ,  22694.5,  44089. ,  65483.5,  86878. , 108272.5,\n",
              "        129667. , 151061.5, 172456. , 193850.5, 215245. ]),\n",
              " <a list of 10 Patch objects>)"
            ]
          },
          "metadata": {},
          "execution_count": 11
        },
        {
          "output_type": "display_data",
          "data": {
            "text/plain": [
              "<Figure size 432x288 with 1 Axes>"
            ],
            "image/png": "[encoded data removed]"
          },
          "metadata": {
            "needs_background": "light"
          }
        }
      ]
    },
    {
      "cell_type": "code",
      "source": [
        "plt.hist(df['OverallQual'])"
      ],
      "metadata": {
        "colab": {
          "base_uri": "https://localhost:8080/",
          "height": 317
        },
        "id": "PxWKwx2RqzMf",
        "outputId": "6d2a9d0a-4fc3-498d-ab96-ccfeed65306e"
      },
      "execution_count": 12,
      "outputs": [
        {
          "output_type": "execute_result",
          "data": {
            "text/plain": [
              "(array([  2.,   3.,  20., 116., 397., 374., 319., 168.,  43.,  18.]),\n",
              " array([ 1. ,  1.9,  2.8,  3.7,  4.6,  5.5,  6.4,  7.3,  8.2,  9.1, 10. ]),\n",
              " <a list of 10 Patch objects>)"
            ]
          },
          "metadata": {},
          "execution_count": 12
        },
        {
          "output_type": "display_data",
          "data": {
            "text/plain": [
              "<Figure size 432x288 with 1 Axes>"
            ],
            "image/png": "[encoded data removed]"
          },
          "metadata": {
            "needs_background": "light"
          }
        }
      ]
    },
    {
      "cell_type": "code",
      "source": [
        "plt.hist(df['OverallCond'])"
      ],
      "metadata": {
        "colab": {
          "base_uri": "https://localhost:8080/",
          "height": 317
        },
        "id": "u9n3JtjprLb1",
        "outputId": "78c48161-42c8-46c2-dd77-f46e72ffd621"
      },
      "execution_count": 13,
      "outputs": [
        {
          "output_type": "execute_result",
          "data": {
            "text/plain": [
              "(array([  1.,   5.,  25.,  57.,   0., 821., 252., 205.,  72.,  22.]),\n",
              " array([1. , 1.8, 2.6, 3.4, 4.2, 5. , 5.8, 6.6, 7.4, 8.2, 9. ]),\n",
              " <a list of 10 Patch objects>)"
            ]
          },
          "metadata": {},
          "execution_count": 13
        },
        {
          "output_type": "display_data",
          "data": {
            "text/plain": [
              "<Figure size 432x288 with 1 Axes>"
            ],
            "image/png": "[encoded data removed]"
          },
          "metadata": {
            "needs_background": "light"
          }
        }
      ]
    },
    {
      "cell_type": "code",
      "source": [
        "plt.hist(df['YearBuilt'])"
      ],
      "metadata": {
        "colab": {
          "base_uri": "https://localhost:8080/",
          "height": 334
        },
        "id": "VFIHZeKSrLZF",
        "outputId": "7c7e35de-f9b3-4764-db2c-7c2b1b012f9b"
      },
      "execution_count": 14,
      "outputs": [
        {
          "output_type": "execute_result",
          "data": {
            "text/plain": [
              "(array([452., 139., 223., 261., 113.,  98., 122.,  37.,   6.,   9.]),\n",
              " array([ 12. ,  25.8,  39.6,  53.4,  67.2,  81. ,  94.8, 108.6, 122.4,\n",
              "        136.2, 150. ]),\n",
              " <a list of 10 Patch objects>)"
            ]
          },
          "metadata": {},
          "execution_count": 14
        },
        {
          "output_type": "display_data",
          "data": {
            "text/plain": [
              "<Figure size 432x288 with 1 Axes>"
            ],
            "image/png": "[encoded data removed]"
          },
          "metadata": {
            "needs_background": "light"
          }
        }
      ]
    },
    {
      "cell_type": "code",
      "source": [
        "plt.hist(df['YearRemodAdd'])"
      ],
      "metadata": {
        "colab": {
          "base_uri": "https://localhost:8080/",
          "height": 317
        },
        "id": "JsAXLi21rLV1",
        "outputId": "5e0291af-9d52-4992-e95d-c196bcc06b6b"
      },
      "execution_count": 15,
      "outputs": [
        {
          "output_type": "execute_result",
          "data": {
            "text/plain": [
              "(array([315., 267., 169.,  76.,  41., 103.,  96.,  87.,  76., 230.]),\n",
              " array([12., 18., 24., 30., 36., 42., 48., 54., 60., 66., 72.]),\n",
              " <a list of 10 Patch objects>)"
            ]
          },
          "metadata": {},
          "execution_count": 15
        },
        {
          "output_type": "display_data",
          "data": {
            "text/plain": [
              "<Figure size 432x288 with 1 Axes>"
            ],
            "image/png": "[encoded data removed]"
          },
          "metadata": {
            "needs_background": "light"
          }
        }
      ]
    },
    {
      "cell_type": "code",
      "source": [
        "plt.hist(df['ExterQual'])"
      ],
      "metadata": {
        "colab": {
          "base_uri": "https://localhost:8080/",
          "height": 317
        },
        "id": "YuAwwbw3rLSM",
        "outputId": "54722ccb-a2b7-4f5f-b4d6-6c704ff93a18"
      },
      "execution_count": 16,
      "outputs": [
        {
          "output_type": "execute_result",
          "data": {
            "text/plain": [
              "(array([ 14.,   0.,   0., 906.,   0.,   0., 488.,   0.,   0.,  52.]),\n",
              " array([2. , 2.3, 2.6, 2.9, 3.2, 3.5, 3.8, 4.1, 4.4, 4.7, 5. ]),\n",
              " <a list of 10 Patch objects>)"
            ]
          },
          "metadata": {},
          "execution_count": 16
        },
        {
          "output_type": "display_data",
          "data": {
            "text/plain": [
              "<Figure size 432x288 with 1 Axes>"
            ],
            "image/png": "[encoded data removed]"
          },
          "metadata": {
            "needs_background": "light"
          }
        }
      ]
    },
    {
      "cell_type": "code",
      "source": [
        "plt.hist(df['ExterCond'])"
      ],
      "metadata": {
        "colab": {
          "base_uri": "https://localhost:8080/",
          "height": 334
        },
        "id": "OAKLCkU6rLO9",
        "outputId": "9b58167e-f00b-49bb-fc09-7cc97a1ee719"
      },
      "execution_count": 17,
      "outputs": [
        {
          "output_type": "execute_result",
          "data": {
            "text/plain": [
              "(array([1.000e+00, 0.000e+00, 2.800e+01, 0.000e+00, 0.000e+00, 1.282e+03,\n",
              "        0.000e+00, 1.460e+02, 0.000e+00, 3.000e+00]),\n",
              " array([1. , 1.4, 1.8, 2.2, 2.6, 3. , 3.4, 3.8, 4.2, 4.6, 5. ]),\n",
              " <a list of 10 Patch objects>)"
            ]
          },
          "metadata": {},
          "execution_count": 17
        },
        {
          "output_type": "display_data",
          "data": {
            "text/plain": [
              "<Figure size 432x288 with 1 Axes>"
            ],
            "image/png": "[encoded data removed]"
          },
          "metadata": {
            "needs_background": "light"
          }
        }
      ]
    },
    {
      "cell_type": "code",
      "source": [
        "plt.hist(df['BedroomAbvGr'])"
      ],
      "metadata": {
        "colab": {
          "base_uri": "https://localhost:8080/",
          "height": 317
        },
        "id": "GwQm3C2srLJ8",
        "outputId": "61bf799f-6330-4fb6-c152-d5c42f2cbb0e"
      },
      "execution_count": 18,
      "outputs": [
        {
          "output_type": "execute_result",
          "data": {
            "text/plain": [
              "(array([  6.,  50., 358., 804.,   0., 213.,  21.,   7.,   0.,   1.]),\n",
              " array([0. , 0.8, 1.6, 2.4, 3.2, 4. , 4.8, 5.6, 6.4, 7.2, 8. ]),\n",
              " <a list of 10 Patch objects>)"
            ]
          },
          "metadata": {},
          "execution_count": 18
        },
        {
          "output_type": "display_data",
          "data": {
            "text/plain": [
              "<Figure size 432x288 with 1 Axes>"
            ],
            "image/png": "[encoded data removed]"
          },
          "metadata": {
            "needs_background": "light"
          }
        }
      ]
    },
    {
      "cell_type": "code",
      "source": [
        "plt.hist(df['GarageCars'])"
      ],
      "metadata": {
        "colab": {
          "base_uri": "https://localhost:8080/",
          "height": 317
        },
        "id": "2cV5oahIrLCF",
        "outputId": "1365d617-0247-4fa1-acaf-ed0e786e5013"
      },
      "execution_count": 19,
      "outputs": [
        {
          "output_type": "execute_result",
          "data": {
            "text/plain": [
              "(array([ 81.,   0., 369.,   0.,   0., 824.,   0., 181.,   0.,   5.]),\n",
              " array([0. , 0.4, 0.8, 1.2, 1.6, 2. , 2.4, 2.8, 3.2, 3.6, 4. ]),\n",
              " <a list of 10 Patch objects>)"
            ]
          },
          "metadata": {},
          "execution_count": 19
        },
        {
          "output_type": "display_data",
          "data": {
            "text/plain": [
              "<Figure size 432x288 with 1 Axes>"
            ],
            "image/png": "[encoded data removed]"
          },
          "metadata": {
            "needs_background": "light"
          }
        }
      ]
    },
    {
      "cell_type": "code",
      "source": [
        "plt.hist(df['PoolArea'])"
      ],
      "metadata": {
        "colab": {
          "base_uri": "https://localhost:8080/",
          "height": 352
        },
        "id": "ppoDeWsprke0",
        "outputId": "ac98f351-98ea-414f-8489-3e431579bc35"
      },
      "execution_count": 20,
      "outputs": [
        {
          "output_type": "execute_result",
          "data": {
            "text/plain": [
              "(array([1.453e+03, 0.000e+00, 0.000e+00, 0.000e+00, 0.000e+00, 0.000e+00,\n",
              "        2.000e+00, 3.000e+00, 1.000e+00, 1.000e+00]),\n",
              " array([  0. ,  73.8, 147.6, 221.4, 295.2, 369. , 442.8, 516.6, 590.4,\n",
              "        664.2, 738. ]),\n",
              " <a list of 10 Patch objects>)"
            ]
          },
          "metadata": {},
          "execution_count": 20
        },
        {
          "output_type": "display_data",
          "data": {
            "text/plain": [
              "<Figure size 432x288 with 1 Axes>"
            ],
            "image/png": "[encoded data removed]"
          },
          "metadata": {
            "needs_background": "light"
          }
        }
      ]
    },
    {
      "cell_type": "code",
      "source": [
        "plt.hist(df['SalePrice'])"
      ],
      "metadata": {
        "colab": {
          "base_uri": "https://localhost:8080/",
          "height": 334
        },
        "id": "1U6N_6x7rkJU",
        "outputId": "7f7d441a-61c5-4387-9fa7-e0c9d5985a74"
      },
      "execution_count": 21,
      "outputs": [
        {
          "output_type": "execute_result",
          "data": {
            "text/plain": [
              "(array([148., 723., 373., 135.,  51.,  19.,   4.,   3.,   2.,   2.]),\n",
              " array([ 34900., 106910., 178920., 250930., 322940., 394950., 466960.,\n",
              "        538970., 610980., 682990., 755000.]),\n",
              " <a list of 10 Patch objects>)"
            ]
          },
          "metadata": {},
          "execution_count": 21
        },
        {
          "output_type": "display_data",
          "data": {
            "text/plain": [
              "<Figure size 432x288 with 1 Axes>"
            ],
            "image/png": "[encoded data removed]"
          },
          "metadata": {
            "needs_background": "light"
          }
        }
      ]
    },
    {
      "cell_type": "code",
      "source": [
        "import seaborn as sns"
      ],
      "metadata": {
        "id": "m4Dx3XX5rj_M"
      },
      "execution_count": 22,
      "outputs": []
    },
    {
      "cell_type": "code",
      "source": [
        "sns.boxplot(data=df, x='Artery', y='SalePrice')"
      ],
      "metadata": {
        "colab": {
          "base_uri": "https://localhost:8080/",
          "height": 296
        },
        "id": "6rc43SWTxGnK",
        "outputId": "8f86b2af-f7c0-46d6-a40a-f0f6323a10ea"
      },
      "execution_count": 23,
      "outputs": [
        {
          "output_type": "execute_result",
          "data": {
            "text/plain": [
              "<matplotlib.axes._subplots.AxesSubplot at 0x7f98282ba890>"
            ]
          },
          "metadata": {},
          "execution_count": 23
        },
        {
          "output_type": "display_data",
          "data": {
            "text/plain": [
              "<Figure size 432x288 with 1 Axes>"
            ],
            "image/png": "[encoded data removed]"
          },
          "metadata": {
            "needs_background": "light"
          }
        }
      ]
    },
    {
      "cell_type": "markdown",
      "source": [
        "#Visualización bivariada"
      ],
      "metadata": {
        "id": "z4Tg3nMbsMlC"
      }
    },
    {
      "cell_type": "code",
      "source": [
        "plt.scatter(df[\"SalePrice\"],df[\"LotArea\"])"
      ],
      "metadata": {
        "colab": {
          "base_uri": "https://localhost:8080/",
          "height": 282
        },
        "id": "S0nnjhJisMTy",
        "outputId": "bf2a12c3-1a94-40dc-e3d7-4e9bf48f5570"
      },
      "execution_count": 24,
      "outputs": [
        {
          "output_type": "execute_result",
          "data": {
            "text/plain": [
              "<matplotlib.collections.PathCollection at 0x7f98281fdc90>"
            ]
          },
          "metadata": {},
          "execution_count": 24
        },
        {
          "output_type": "display_data",
          "data": {
            "text/plain": [
              "<Figure size 432x288 with 1 Axes>"
            ],
            "image/png": "[encoded data removed]"
          },
          "metadata": {
            "needs_background": "light"
          }
        }
      ]
    },
    {
      "cell_type": "code",
      "source": [
        "plt.scatter(df[\"SalePrice\"],df[\"OverallQual\"])"
      ],
      "metadata": {
        "colab": {
          "base_uri": "https://localhost:8080/",
          "height": 282
        },
        "id": "kgYf9j_ArwSc",
        "outputId": "d0dac6a7-8847-4011-cbc8-372b966f626b"
      },
      "execution_count": 25,
      "outputs": [
        {
          "output_type": "execute_result",
          "data": {
            "text/plain": [
              "<matplotlib.collections.PathCollection at 0x7f982817d890>"
            ]
          },
          "metadata": {},
          "execution_count": 25
        },
        {
          "output_type": "display_data",
          "data": {
            "text/plain": [
              "<Figure size 432x288 with 1 Axes>"
            ],
            "image/png": "[encoded data removed]"
          },
          "metadata": {
            "needs_background": "light"
          }
        }
      ]
    },
    {
      "cell_type": "code",
      "source": [
        "plt.scatter(df[\"SalePrice\"],df[\"OverallCond\"])"
      ],
      "metadata": {
        "colab": {
          "base_uri": "https://localhost:8080/",
          "height": 282
        },
        "id": "HOuFgfjHuPSU",
        "outputId": "96ae47a6-9836-42a3-f0f5-727b32e8164a"
      },
      "execution_count": 26,
      "outputs": [
        {
          "output_type": "execute_result",
          "data": {
            "text/plain": [
              "<matplotlib.collections.PathCollection at 0x7f982816e390>"
            ]
          },
          "metadata": {},
          "execution_count": 26
        },
        {
          "output_type": "display_data",
          "data": {
            "text/plain": [
              "<Figure size 432x288 with 1 Axes>"
            ],
            "image/png": "[encoded data removed]"
          },
          "metadata": {
            "needs_background": "light"
          }
        }
      ]
    },
    {
      "cell_type": "code",
      "source": [
        "plt.scatter(df[\"SalePrice\"],df[\"YearBuilt\"])"
      ],
      "metadata": {
        "colab": {
          "base_uri": "https://localhost:8080/",
          "height": 282
        },
        "id": "_Q8pNWA5uPPm",
        "outputId": "d83ec560-bc71-4eaa-81de-be1c4c769dd2"
      },
      "execution_count": 28,
      "outputs": [
        {
          "output_type": "execute_result",
          "data": {
            "text/plain": [
              "<matplotlib.collections.PathCollection at 0x7f98280a2c10>"
            ]
          },
          "metadata": {},
          "execution_count": 28
        },
        {
          "output_type": "display_data",
          "data": {
            "text/plain": [
              "<Figure size 432x288 with 1 Axes>"
            ],
            "image/png": "[encoded data removed]"
          },
          "metadata": {
            "needs_background": "light"
          }
        }
      ]
    },
    {
      "cell_type": "code",
      "source": [
        "plt.scatter(df[\"SalePrice\"],df[\"YearRemodAdd\"])"
      ],
      "metadata": {
        "colab": {
          "base_uri": "https://localhost:8080/",
          "height": 282
        },
        "id": "4r_heI7muPNG",
        "outputId": "3cbb3b77-a063-4a44-f748-a7692085a876"
      },
      "execution_count": 29,
      "outputs": [
        {
          "output_type": "execute_result",
          "data": {
            "text/plain": [
              "<matplotlib.collections.PathCollection at 0x7f9828014ad0>"
            ]
          },
          "metadata": {},
          "execution_count": 29
        },
        {
          "output_type": "display_data",
          "data": {
            "text/plain": [
              "<Figure size 432x288 with 1 Axes>"
            ],
            "image/png": "[encoded data removed]"
          },
          "metadata": {
            "needs_background": "light"
          }
        }
      ]
    },
    {
      "cell_type": "code",
      "source": [
        "plt.scatter(df[\"SalePrice\"],df[\"ExterQual\"])"
      ],
      "metadata": {
        "colab": {
          "base_uri": "https://localhost:8080/",
          "height": 282
        },
        "id": "Hs1YlMp8uPKl",
        "outputId": "da0534d8-6de4-4b24-bb7e-0ef8d1607635"
      },
      "execution_count": 30,
      "outputs": [
        {
          "output_type": "execute_result",
          "data": {
            "text/plain": [
              "<matplotlib.collections.PathCollection at 0x7f9827f89810>"
            ]
          },
          "metadata": {},
          "execution_count": 30
        },
        {
          "output_type": "display_data",
          "data": {
            "text/plain": [
              "<Figure size 432x288 with 1 Axes>"
            ],
            "image/png": "[encoded data removed]"
          },
          "metadata": {
            "needs_background": "light"
          }
        }
      ]
    },
    {
      "cell_type": "code",
      "source": [
        "plt.scatter(df[\"SalePrice\"],df[\"ExterCond\"])"
      ],
      "metadata": {
        "colab": {
          "base_uri": "https://localhost:8080/",
          "height": 282
        },
        "id": "4_hnFtjRuPHt",
        "outputId": "c38fd0b5-5fd9-41d0-d786-321093887954"
      },
      "execution_count": 31,
      "outputs": [
        {
          "output_type": "execute_result",
          "data": {
            "text/plain": [
              "<matplotlib.collections.PathCollection at 0x7f9827eff590>"
            ]
          },
          "metadata": {},
          "execution_count": 31
        },
        {
          "output_type": "display_data",
          "data": {
            "text/plain": [
              "<Figure size 432x288 with 1 Axes>"
            ],
            "image/png": "[encoded data removed]"
          },
          "metadata": {
            "needs_background": "light"
          }
        }
      ]
    },
    {
      "cell_type": "code",
      "source": [
        "plt.scatter(df[\"SalePrice\"],df[\"BedroomAbvGr\"])"
      ],
      "metadata": {
        "colab": {
          "base_uri": "https://localhost:8080/",
          "height": 282
        },
        "id": "ca9YDNuFuPFN",
        "outputId": "14240257-43d8-4f77-f28b-3e34a9711dae"
      },
      "execution_count": 32,
      "outputs": [
        {
          "output_type": "execute_result",
          "data": {
            "text/plain": [
              "<matplotlib.collections.PathCollection at 0x7f9827ef0e10>"
            ]
          },
          "metadata": {},
          "execution_count": 32
        },
        {
          "output_type": "display_data",
          "data": {
            "text/plain": [
              "<Figure size 432x288 with 1 Axes>"
            ],
            "image/png": "[encoded data removed]"
          },
          "metadata": {
            "needs_background": "light"
          }
        }
      ]
    },
    {
      "cell_type": "code",
      "source": [
        "plt.scatter(df[\"SalePrice\"],df[\"GarageCars\"])"
      ],
      "metadata": {
        "colab": {
          "base_uri": "https://localhost:8080/",
          "height": 282
        },
        "id": "PCtx5UsiuPCV",
        "outputId": "dbda57e1-2a18-45d2-949f-070af2b074c5"
      },
      "execution_count": 33,
      "outputs": [
        {
          "output_type": "execute_result",
          "data": {
            "text/plain": [
              "<matplotlib.collections.PathCollection at 0x7f9827e6e510>"
            ]
          },
          "metadata": {},
          "execution_count": 33
        },
        {
          "output_type": "display_data",
          "data": {
            "text/plain": [
              "<Figure size 432x288 with 1 Axes>"
            ],
            "image/png": "[encoded data removed]"
          },
          "metadata": {
            "needs_background": "light"
          }
        }
      ]
    },
    {
      "cell_type": "code",
      "source": [
        "plt.scatter(df[\"SalePrice\"],df[\"PoolArea\"])"
      ],
      "metadata": {
        "colab": {
          "base_uri": "https://localhost:8080/",
          "height": 282
        },
        "id": "Vd7w2y4OuO_d",
        "outputId": "8f8528da-21a9-4f33-9e68-850daa8bc0ef"
      },
      "execution_count": 34,
      "outputs": [
        {
          "output_type": "execute_result",
          "data": {
            "text/plain": [
              "<matplotlib.collections.PathCollection at 0x7f9828555190>"
            ]
          },
          "metadata": {},
          "execution_count": 34
        },
        {
          "output_type": "display_data",
          "data": {
            "text/plain": [
              "<Figure size 432x288 with 1 Axes>"
            ],
            "image/png": "[encoded data removed]"
          },
          "metadata": {
            "needs_background": "light"
          }
        }
      ]
    },
    {
      "cell_type": "code",
      "source": [
        "plt.scatter(df[\"SalePrice\"],df[\"Artery\"])"
      ],
      "metadata": {
        "colab": {
          "base_uri": "https://localhost:8080/",
          "height": 282
        },
        "id": "VWuPGtN9uO8V",
        "outputId": "a26d1cb7-4ea5-446e-82b8-c00a0cc6f054"
      },
      "execution_count": 35,
      "outputs": [
        {
          "output_type": "execute_result",
          "data": {
            "text/plain": [
              "<matplotlib.collections.PathCollection at 0x7f9828238fd0>"
            ]
          },
          "metadata": {},
          "execution_count": 35
        },
        {
          "output_type": "display_data",
          "data": {
            "text/plain": [
              "<Figure size 432x288 with 1 Axes>"
            ],
            "image/png": "[encoded data removed]"
          },
          "metadata": {
            "needs_background": "light"
          }
        }
      ]
    },
    {
      "cell_type": "code",
      "source": [],
      "metadata": {
        "id": "CWAkQ77RuO21"
      },
      "execution_count": null,
      "outputs": []
    },
    {
      "cell_type": "markdown",
      "source": [
        "###Análisis de correlación"
      ],
      "metadata": {
        "id": "sCEP6wz5vVEM"
      }
    },
    {
      "cell_type": "code",
      "source": [
        "df.corr()"
      ],
      "metadata": {
        "colab": {
          "base_uri": "https://localhost:8080/",
          "height": 490
        },
        "id": "B5EtLC7bvXRU",
        "outputId": "17f8eb76-2d4a-449b-f441-70879a3e22f2"
      },
      "execution_count": 36,
      "outputs": [
        {
          "output_type": "execute_result",
          "data": {
            "text/plain": [
              "               LotArea  OverallQual  OverallCond  YearBuilt  YearRemodAdd  \\\n",
              "LotArea       1.000000     0.105806    -0.005636  -0.014228     -0.013788   \n",
              "OverallQual   0.105806     1.000000    -0.091932  -0.572323     -0.550684   \n",
              "OverallCond  -0.005636    -0.091932     1.000000   0.375983     -0.073741   \n",
              "YearBuilt    -0.014228    -0.572323     0.375983   1.000000      0.592855   \n",
              "YearRemodAdd -0.013788    -0.550684    -0.073741   0.592855      1.000000   \n",
              "ExterQual     0.055570     0.726278    -0.138942  -0.598160     -0.587318   \n",
              "ExterCond     0.014732     0.013953     0.389163   0.103925     -0.074745   \n",
              "BedroomAbvGr  0.119690     0.101676     0.012980   0.070651      0.040581   \n",
              "GarageCars    0.154871     0.600671    -0.185758  -0.537850     -0.420622   \n",
              "PoolArea      0.077672     0.065166    -0.001985  -0.004950     -0.005829   \n",
              "SalePrice     0.263843     0.790982    -0.077856  -0.522897     -0.507101   \n",
              "Artery       -0.009526    -0.068812     0.080743   0.233179      0.164073   \n",
              "\n",
              "              ExterQual  ExterCond  BedroomAbvGr  GarageCars  PoolArea  \\\n",
              "LotArea        0.055570   0.014732      0.119690    0.154871  0.077672   \n",
              "OverallQual    0.726278   0.013953      0.101676    0.600671  0.065166   \n",
              "OverallCond   -0.138942   0.389163      0.012980   -0.185758 -0.001985   \n",
              "YearBuilt     -0.598160   0.103925      0.070651   -0.537850 -0.004950   \n",
              "YearRemodAdd  -0.587318  -0.074745      0.040581   -0.420622 -0.005829   \n",
              "ExterQual      1.000000   0.009184     -0.018729    0.526390  0.034766   \n",
              "ExterCond      0.009184   1.000000      0.015065   -0.009377  0.044387   \n",
              "BedroomAbvGr  -0.018729   0.015065      1.000000    0.086106  0.070703   \n",
              "GarageCars     0.526390  -0.009377      0.086106    1.000000  0.020934   \n",
              "PoolArea       0.034766   0.044387      0.070703    0.020934  1.000000   \n",
              "SalePrice      0.682639   0.018899      0.168213    0.640409  0.092404   \n",
              "Artery        -0.100382   0.076499      0.049038   -0.071068  0.036302   \n",
              "\n",
              "              SalePrice    Artery  \n",
              "LotArea        0.263843 -0.009526  \n",
              "OverallQual    0.790982 -0.068812  \n",
              "OverallCond   -0.077856  0.080743  \n",
              "YearBuilt     -0.522897  0.233179  \n",
              "YearRemodAdd  -0.507101  0.164073  \n",
              "ExterQual      0.682639 -0.100382  \n",
              "ExterCond      0.018899  0.076499  \n",
              "BedroomAbvGr   0.168213  0.049038  \n",
              "GarageCars     0.640409 -0.071068  \n",
              "PoolArea       0.092404  0.036302  \n",
              "SalePrice      1.000000 -0.106401  \n",
              "Artery        -0.106401  1.000000  "
            ],
            "text/html": [
              "\n",
              "  <div id=\"df-ab56215e-8636-46b0-8059-c02588fbd7dc\">\n",
              "    <div class=\"colab-df-container\">\n",
              "      <div>\n",
              "<style scoped>\n",
              "    .dataframe tbody tr th:only-of-type {\n",
              "        vertical-align: middle;\n",
              "    }\n",
              "\n",
              "    .dataframe tbody tr th {\n",
              "        vertical-align: top;\n",
              "    }\n",
              "\n",
              "    .dataframe thead th {\n",
              "        text-align: right;\n",
              "    }\n",
              "</style>\n",
              "<table border=\"1\" class=\"dataframe\">\n",
              "  <thead>\n",
              "    <tr style=\"text-align: right;\">\n",
              "      <th></th>\n",
              "      <th>LotArea</th>\n",
              "      <th>OverallQual</th>\n",
              "      <th>OverallCond</th>\n",
              "      <th>YearBuilt</th>\n",
              "      <th>YearRemodAdd</th>\n",
              "      <th>ExterQual</th>\n",
              "      <th>ExterCond</th>\n",
              "      <th>BedroomAbvGr</th>\n",
              "      <th>GarageCars</th>\n",
              "      <th>PoolArea</th>\n",
              "      <th>SalePrice</th>\n",
              "      <th>Artery</th>\n",
              "    </tr>\n",
              "  </thead>\n",
              "  <tbody>\n",
              "    <tr>\n",
              "      <th>LotArea</th>\n",
              "      <td>1.000000</td>\n",
              "      <td>0.105806</td>\n",
              "      <td>-0.005636</td>\n",
              "      <td>-0.014228</td>\n",
              "      <td>-0.013788</td>\n",
              "      <td>0.055570</td>\n",
              "      <td>0.014732</td>\n",
              "      <td>0.119690</td>\n",
              "      <td>0.154871</td>\n",
              "      <td>0.077672</td>\n",
              "      <td>0.263843</td>\n",
              "      <td>-0.009526</td>\n",
              "    </tr>\n",
              "    <tr>\n",
              "      <th>OverallQual</th>\n",
              "      <td>0.105806</td>\n",
              "      <td>1.000000</td>\n",
              "      <td>-0.091932</td>\n",
              "      <td>-0.572323</td>\n",
              "      <td>-0.550684</td>\n",
              "      <td>0.726278</td>\n",
              "      <td>0.013953</td>\n",
              "      <td>0.101676</td>\n",
              "      <td>0.600671</td>\n",
              "      <td>0.065166</td>\n",
              "      <td>0.790982</td>\n",
              "      <td>-0.068812</td>\n",
              "    </tr>\n",
              "    <tr>\n",
              "      <th>OverallCond</th>\n",
              "      <td>-0.005636</td>\n",
              "      <td>-0.091932</td>\n",
              "      <td>1.000000</td>\n",
              "      <td>0.375983</td>\n",
              "      <td>-0.073741</td>\n",
              "      <td>-0.138942</td>\n",
              "      <td>0.389163</td>\n",
              "      <td>0.012980</td>\n",
              "      <td>-0.185758</td>\n",
              "      <td>-0.001985</td>\n",
              "      <td>-0.077856</td>\n",
              "      <td>0.080743</td>\n",
              "    </tr>\n",
              "    <tr>\n",
              "      <th>YearBuilt</th>\n",
              "      <td>-0.014228</td>\n",
              "      <td>-0.572323</td>\n",
              "      <td>0.375983</td>\n",
              "      <td>1.000000</td>\n",
              "      <td>0.592855</td>\n",
              "      <td>-0.598160</td>\n",
              "      <td>0.103925</td>\n",
              "      <td>0.070651</td>\n",
              "      <td>-0.537850</td>\n",
              "      <td>-0.004950</td>\n",
              "      <td>-0.522897</td>\n",
              "      <td>0.233179</td>\n",
              "    </tr>\n",
              "    <tr>\n",
              "      <th>YearRemodAdd</th>\n",
              "      <td>-0.013788</td>\n",
              "      <td>-0.550684</td>\n",
              "      <td>-0.073741</td>\n",
              "      <td>0.592855</td>\n",
              "      <td>1.000000</td>\n",
              "      <td>-0.587318</td>\n",
              "      <td>-0.074745</td>\n",
              "      <td>0.040581</td>\n",
              "      <td>-0.420622</td>\n",
              "      <td>-0.005829</td>\n",
              "      <td>-0.507101</td>\n",
              "      <td>0.164073</td>\n",
              "    </tr>\n",
              "    <tr>\n",
              "      <th>ExterQual</th>\n",
              "      <td>0.055570</td>\n",
              "      <td>0.726278</td>\n",
              "      <td>-0.138942</td>\n",
              "      <td>-0.598160</td>\n",
              "      <td>-0.587318</td>\n",
              "      <td>1.000000</td>\n",
              "      <td>0.009184</td>\n",
              "      <td>-0.018729</td>\n",
              "      <td>0.526390</td>\n",
              "      <td>0.034766</td>\n",
              "      <td>0.682639</td>\n",
              "      <td>-0.100382</td>\n",
              "    </tr>\n",
              "    <tr>\n",
              "      <th>ExterCond</th>\n",
              "      <td>0.014732</td>\n",
              "      <td>0.013953</td>\n",
              "      <td>0.389163</td>\n",
              "      <td>0.103925</td>\n",
              "      <td>-0.074745</td>\n",
              "      <td>0.009184</td>\n",
              "      <td>1.000000</td>\n",
              "      <td>0.015065</td>\n",
              "      <td>-0.009377</td>\n",
              "      <td>0.044387</td>\n",
              "      <td>0.018899</td>\n",
              "      <td>0.076499</td>\n",
              "    </tr>\n",
              "    <tr>\n",
              "      <th>BedroomAbvGr</th>\n",
              "      <td>0.119690</td>\n",
              "      <td>0.101676</td>\n",
              "      <td>0.012980</td>\n",
              "      <td>0.070651</td>\n",
              "      <td>0.040581</td>\n",
              "      <td>-0.018729</td>\n",
              "      <td>0.015065</td>\n",
              "      <td>1.000000</td>\n",
              "      <td>0.086106</td>\n",
              "      <td>0.070703</td>\n",
              "      <td>0.168213</td>\n",
              "      <td>0.049038</td>\n",
              "    </tr>\n",
              "    <tr>\n",
              "      <th>GarageCars</th>\n",
              "      <td>0.154871</td>\n",
              "      <td>0.600671</td>\n",
              "      <td>-0.185758</td>\n",
              "      <td>-0.537850</td>\n",
              "      <td>-0.420622</td>\n",
              "      <td>0.526390</td>\n",
              "      <td>-0.009377</td>\n",
              "      <td>0.086106</td>\n",
              "      <td>1.000000</td>\n",
              "      <td>0.020934</td>\n",
              "      <td>0.640409</td>\n",
              "      <td>-0.071068</td>\n",
              "    </tr>\n",
              "    <tr>\n",
              "      <th>PoolArea</th>\n",
              "      <td>0.077672</td>\n",
              "      <td>0.065166</td>\n",
              "      <td>-0.001985</td>\n",
              "      <td>-0.004950</td>\n",
              "      <td>-0.005829</td>\n",
              "      <td>0.034766</td>\n",
              "      <td>0.044387</td>\n",
              "      <td>0.070703</td>\n",
              "      <td>0.020934</td>\n",
              "      <td>1.000000</td>\n",
              "      <td>0.092404</td>\n",
              "      <td>0.036302</td>\n",
              "    </tr>\n",
              "    <tr>\n",
              "      <th>SalePrice</th>\n",
              "      <td>0.263843</td>\n",
              "      <td>0.790982</td>\n",
              "      <td>-0.077856</td>\n",
              "      <td>-0.522897</td>\n",
              "      <td>-0.507101</td>\n",
              "      <td>0.682639</td>\n",
              "      <td>0.018899</td>\n",
              "      <td>0.168213</td>\n",
              "      <td>0.640409</td>\n",
              "      <td>0.092404</td>\n",
              "      <td>1.000000</td>\n",
              "      <td>-0.106401</td>\n",
              "    </tr>\n",
              "    <tr>\n",
              "      <th>Artery</th>\n",
              "      <td>-0.009526</td>\n",
              "      <td>-0.068812</td>\n",
              "      <td>0.080743</td>\n",
              "      <td>0.233179</td>\n",
              "      <td>0.164073</td>\n",
              "      <td>-0.100382</td>\n",
              "      <td>0.076499</td>\n",
              "      <td>0.049038</td>\n",
              "      <td>-0.071068</td>\n",
              "      <td>0.036302</td>\n",
              "      <td>-0.106401</td>\n",
              "      <td>1.000000</td>\n",
              "    </tr>\n",
              "  </tbody>\n",
              "</table>\n",
              "</div>\n",
              "      <button class=\"colab-df-convert\" onclick=\"convertToInteractive('df-ab56215e-8636-46b0-8059-c02588fbd7dc')\"\n",
              "              title=\"Convert this dataframe to an interactive table.\"\n",
              "              style=\"display:none;\">\n",
              "        \n",
              "  <svg xmlns=\"http://www.w3.org/2000/svg\" height=\"24px\"viewBox=\"0 0 24 24\"\n",
              "       width=\"24px\">\n",
              "    <path d=\"M0 0h24v24H0V0z\" fill=\"none\"/>\n",
              "    <path d=\"M18.56 5.44l.94 2.06.94-2.06 2.06-.94-2.06-.94-.94-2.06-.94 2.06-2.06.94zm-11 1L8.5 8.5l.94-2.06 2.06-.94-2.06-.94L8.5 2.5l-.94 2.06-2.06.94zm10 10l.94 2.06.94-2.06 2.06-.94-2.06-.94-.94-2.06-.94 2.06-2.06.94z\"/><path d=\"M17.41 7.96l-1.37-1.37c-.4-.4-.92-.59-1.43-.59-.52 0-1.04.2-1.43.59L10.3 9.45l-7.72 7.72c-.78.78-.78 2.05 0 2.83L4 21.41c.39.39.9.59 1.41.59.51 0 1.02-.2 1.41-.59l7.78-7.78 2.81-2.81c.8-.78.8-2.07 0-2.86zM5.41 20L4 18.59l7.72-7.72 1.47 1.35L5.41 20z\"/>\n",
              "  </svg>\n",
              "      </button>\n",
              "      \n",
              "  <style>\n",
              "    .colab-df-container {\n",
              "      display:flex;\n",
              "      flex-wrap:wrap;\n",
              "      gap: 12px;\n",
              "    }\n",
              "\n",
              "    .colab-df-convert {\n",
              "      background-color: #E8F0FE;\n",
              "      border: none;\n",
              "      border-radius: 50%;\n",
              "      cursor: pointer;\n",
              "      display: none;\n",
              "      fill: #1967D2;\n",
              "      height: 32px;\n",
              "      padding: 0 0 0 0;\n",
              "      width: 32px;\n",
              "    }\n",
              "\n",
              "    .colab-df-convert:hover {\n",
              "      background-color: #E2EBFA;\n",
              "      box-shadow: 0px 1px 2px rgba(60, 64, 67, 0.3), 0px 1px 3px 1px rgba(60, 64, 67, 0.15);\n",
              "      fill: #174EA6;\n",
              "    }\n",
              "\n",
              "    [theme=dark] .colab-df-convert {\n",
              "      background-color: #3B4455;\n",
              "      fill: #D2E3FC;\n",
              "    }\n",
              "\n",
              "    [theme=dark] .colab-df-convert:hover {\n",
              "      background-color: #434B5C;\n",
              "      box-shadow: 0px 1px 3px 1px rgba(0, 0, 0, 0.15);\n",
              "      filter: drop-shadow(0px 1px 2px rgba(0, 0, 0, 0.3));\n",
              "      fill: #FFFFFF;\n",
              "    }\n",
              "  </style>\n",
              "\n",
              "      <script>\n",
              "        const buttonEl =\n",
              "          document.querySelector('#df-ab56215e-8636-46b0-8059-c02588fbd7dc button.colab-df-convert');\n",
              "        buttonEl.style.display =\n",
              "          google.colab.kernel.accessAllowed ? 'block' : 'none';\n",
              "\n",
              "        async function convertToInteractive(key) {\n",
              "          const element = document.querySelector('#df-ab56215e-8636-46b0-8059-c02588fbd7dc');\n",
              "          const dataTable =\n",
              "            await google.colab.kernel.invokeFunction('convertToInteractive',\n",
              "                                                     [key], {});\n",
              "          if (!dataTable) return;\n",
              "\n",
              "          const docLinkHtml = 'Like what you see? Visit the ' +\n",
              "            '<a target=\"_blank\" href=https://colab.research.google.com/notebooks/data_table.ipynb>data table notebook</a>'\n",
              "            + ' to learn more about interactive tables.';\n",
              "          element.innerHTML = '';\n",
              "          dataTable['output_type'] = 'display_data';\n",
              "          await google.colab.output.renderOutput(dataTable, element);\n",
              "          const docLink = document.createElement('div');\n",
              "          docLink.innerHTML = docLinkHtml;\n",
              "          element.appendChild(docLink);\n",
              "        }\n",
              "      </script>\n",
              "    </div>\n",
              "  </div>\n",
              "  "
            ]
          },
          "metadata": {},
          "execution_count": 36
        }
      ]
    },
    {
      "cell_type": "code",
      "source": [
        "df.corr(method='spearman')"
      ],
      "metadata": {
        "colab": {
          "base_uri": "https://localhost:8080/",
          "height": 490
        },
        "id": "MvaCUX9awxui",
        "outputId": "88b4567e-3685-43b5-cf24-9f6711a1f5f8"
      },
      "execution_count": 37,
      "outputs": [
        {
          "output_type": "execute_result",
          "data": {
            "text/plain": [
              "               LotArea  OverallQual  OverallCond  YearBuilt  YearRemodAdd  \\\n",
              "LotArea       1.000000     0.233303    -0.046912  -0.103385     -0.075158   \n",
              "OverallQual   0.233303     1.000000    -0.177521  -0.647392     -0.557723   \n",
              "OverallCond  -0.046912    -0.177521     1.000000   0.416964      0.041464   \n",
              "YearBuilt    -0.103385    -0.647392     0.416964   1.000000      0.684388   \n",
              "YearRemodAdd -0.075158    -0.557723     0.041464   0.684388      1.000000   \n",
              "ExterQual     0.148995     0.715988    -0.228402  -0.678997     -0.631327   \n",
              "ExterCond     0.032046    -0.015870     0.329091   0.116672     -0.043496   \n",
              "BedroomAbvGr  0.337788     0.121517    -0.003713   0.035257      0.054371   \n",
              "GarageCars    0.340195     0.608756    -0.254763  -0.601519     -0.456245   \n",
              "PoolArea      0.084460     0.056667    -0.005605  -0.008986     -0.002821   \n",
              "SalePrice     0.456461     0.809829    -0.129325  -0.652682     -0.571159   \n",
              "Artery       -0.024566    -0.081717     0.079480   0.219426      0.154949   \n",
              "\n",
              "              ExterQual  ExterCond  BedroomAbvGr  GarageCars  PoolArea  \\\n",
              "LotArea        0.148995   0.032046      0.337788    0.340195  0.084460   \n",
              "OverallQual    0.715988  -0.015870      0.121517    0.608756  0.056667   \n",
              "OverallCond   -0.228402   0.329091     -0.003713   -0.254763 -0.005605   \n",
              "YearBuilt     -0.678997   0.116672      0.035257   -0.601519 -0.008986   \n",
              "YearRemodAdd  -0.631327  -0.043496      0.054371   -0.456245 -0.002821   \n",
              "ExterQual      1.000000  -0.007822      0.010209    0.542498  0.033574   \n",
              "ExterCond     -0.007822   1.000000      0.024243   -0.036854  0.041834   \n",
              "BedroomAbvGr   0.010209   0.024243      1.000000    0.118497  0.071734   \n",
              "GarageCars     0.542498  -0.036854      0.118497    1.000000  0.021783   \n",
              "PoolArea       0.033574   0.041834      0.071734    0.021783  1.000000   \n",
              "SalePrice      0.684014   0.011682      0.234907    0.690711  0.058453   \n",
              "Artery        -0.107414   0.071515      0.030117   -0.081109  0.042658   \n",
              "\n",
              "              SalePrice    Artery  \n",
              "LotArea        0.456461 -0.024566  \n",
              "OverallQual    0.809829 -0.081717  \n",
              "OverallCond   -0.129325  0.079480  \n",
              "YearBuilt     -0.652682  0.219426  \n",
              "YearRemodAdd  -0.571159  0.154949  \n",
              "ExterQual      0.684014 -0.107414  \n",
              "ExterCond      0.011682  0.071515  \n",
              "BedroomAbvGr   0.234907  0.030117  \n",
              "GarageCars     0.690711 -0.081109  \n",
              "PoolArea       0.058453  0.042658  \n",
              "SalePrice      1.000000 -0.151573  \n",
              "Artery        -0.151573  1.000000  "
            ],
            "text/html": [
              "\n",
              "  <div id=\"df-76a80522-9a92-42ae-8ce1-9a4240d70583\">\n",
              "    <div class=\"colab-df-container\">\n",
              "      <div>\n",
              "<style scoped>\n",
              "    .dataframe tbody tr th:only-of-type {\n",
              "        vertical-align: middle;\n",
              "    }\n",
              "\n",
              "    .dataframe tbody tr th {\n",
              "        vertical-align: top;\n",
              "    }\n",
              "\n",
              "    .dataframe thead th {\n",
              "        text-align: right;\n",
              "    }\n",
              "</style>\n",
              "<table border=\"1\" class=\"dataframe\">\n",
              "  <thead>\n",
              "    <tr style=\"text-align: right;\">\n",
              "      <th></th>\n",
              "      <th>LotArea</th>\n",
              "      <th>OverallQual</th>\n",
              "      <th>OverallCond</th>\n",
              "      <th>YearBuilt</th>\n",
              "      <th>YearRemodAdd</th>\n",
              "      <th>ExterQual</th>\n",
              "      <th>ExterCond</th>\n",
              "      <th>BedroomAbvGr</th>\n",
              "      <th>GarageCars</th>\n",
              "      <th>PoolArea</th>\n",
              "      <th>SalePrice</th>\n",
              "      <th>Artery</th>\n",
              "    </tr>\n",
              "  </thead>\n",
              "  <tbody>\n",
              "    <tr>\n",
              "      <th>LotArea</th>\n",
              "      <td>1.000000</td>\n",
              "      <td>0.233303</td>\n",
              "      <td>-0.046912</td>\n",
              "      <td>-0.103385</td>\n",
              "      <td>-0.075158</td>\n",
              "      <td>0.148995</td>\n",
              "      <td>0.032046</td>\n",
              "      <td>0.337788</td>\n",
              "      <td>0.340195</td>\n",
              "      <td>0.084460</td>\n",
              "      <td>0.456461</td>\n",
              "      <td>-0.024566</td>\n",
              "    </tr>\n",
              "    <tr>\n",
              "      <th>OverallQual</th>\n",
              "      <td>0.233303</td>\n",
              "      <td>1.000000</td>\n",
              "      <td>-0.177521</td>\n",
              "      <td>-0.647392</td>\n",
              "      <td>-0.557723</td>\n",
              "      <td>0.715988</td>\n",
              "      <td>-0.015870</td>\n",
              "      <td>0.121517</td>\n",
              "      <td>0.608756</td>\n",
              "      <td>0.056667</td>\n",
              "      <td>0.809829</td>\n",
              "      <td>-0.081717</td>\n",
              "    </tr>\n",
              "    <tr>\n",
              "      <th>OverallCond</th>\n",
              "      <td>-0.046912</td>\n",
              "      <td>-0.177521</td>\n",
              "      <td>1.000000</td>\n",
              "      <td>0.416964</td>\n",
              "      <td>0.041464</td>\n",
              "      <td>-0.228402</td>\n",
              "      <td>0.329091</td>\n",
              "      <td>-0.003713</td>\n",
              "      <td>-0.254763</td>\n",
              "      <td>-0.005605</td>\n",
              "      <td>-0.129325</td>\n",
              "      <td>0.079480</td>\n",
              "    </tr>\n",
              "    <tr>\n",
              "      <th>YearBuilt</th>\n",
              "      <td>-0.103385</td>\n",
              "      <td>-0.647392</td>\n",
              "      <td>0.416964</td>\n",
              "      <td>1.000000</td>\n",
              "      <td>0.684388</td>\n",
              "      <td>-0.678997</td>\n",
              "      <td>0.116672</td>\n",
              "      <td>0.035257</td>\n",
              "      <td>-0.601519</td>\n",
              "      <td>-0.008986</td>\n",
              "      <td>-0.652682</td>\n",
              "      <td>0.219426</td>\n",
              "    </tr>\n",
              "    <tr>\n",
              "      <th>YearRemodAdd</th>\n",
              "      <td>-0.075158</td>\n",
              "      <td>-0.557723</td>\n",
              "      <td>0.041464</td>\n",
              "      <td>0.684388</td>\n",
              "      <td>1.000000</td>\n",
              "      <td>-0.631327</td>\n",
              "      <td>-0.043496</td>\n",
              "      <td>0.054371</td>\n",
              "      <td>-0.456245</td>\n",
              "      <td>-0.002821</td>\n",
              "      <td>-0.571159</td>\n",
              "      <td>0.154949</td>\n",
              "    </tr>\n",
              "    <tr>\n",
              "      <th>ExterQual</th>\n",
              "      <td>0.148995</td>\n",
              "      <td>0.715988</td>\n",
              "      <td>-0.228402</td>\n",
              "      <td>-0.678997</td>\n",
              "      <td>-0.631327</td>\n",
              "      <td>1.000000</td>\n",
              "      <td>-0.007822</td>\n",
              "      <td>0.010209</td>\n",
              "      <td>0.542498</td>\n",
              "      <td>0.033574</td>\n",
              "      <td>0.684014</td>\n",
              "      <td>-0.107414</td>\n",
              "    </tr>\n",
              "    <tr>\n",
              "      <th>ExterCond</th>\n",
              "      <td>0.032046</td>\n",
              "      <td>-0.015870</td>\n",
              "      <td>0.329091</td>\n",
              "      <td>0.116672</td>\n",
              "      <td>-0.043496</td>\n",
              "      <td>-0.007822</td>\n",
              "      <td>1.000000</td>\n",
              "      <td>0.024243</td>\n",
              "      <td>-0.036854</td>\n",
              "      <td>0.041834</td>\n",
              "      <td>0.011682</td>\n",
              "      <td>0.071515</td>\n",
              "    </tr>\n",
              "    <tr>\n",
              "      <th>BedroomAbvGr</th>\n",
              "      <td>0.337788</td>\n",
              "      <td>0.121517</td>\n",
              "      <td>-0.003713</td>\n",
              "      <td>0.035257</td>\n",
              "      <td>0.054371</td>\n",
              "      <td>0.010209</td>\n",
              "      <td>0.024243</td>\n",
              "      <td>1.000000</td>\n",
              "      <td>0.118497</td>\n",
              "      <td>0.071734</td>\n",
              "      <td>0.234907</td>\n",
              "      <td>0.030117</td>\n",
              "    </tr>\n",
              "    <tr>\n",
              "      <th>GarageCars</th>\n",
              "      <td>0.340195</td>\n",
              "      <td>0.608756</td>\n",
              "      <td>-0.254763</td>\n",
              "      <td>-0.601519</td>\n",
              "      <td>-0.456245</td>\n",
              "      <td>0.542498</td>\n",
              "      <td>-0.036854</td>\n",
              "      <td>0.118497</td>\n",
              "      <td>1.000000</td>\n",
              "      <td>0.021783</td>\n",
              "      <td>0.690711</td>\n",
              "      <td>-0.081109</td>\n",
              "    </tr>\n",
              "    <tr>\n",
              "      <th>PoolArea</th>\n",
              "      <td>0.084460</td>\n",
              "      <td>0.056667</td>\n",
              "      <td>-0.005605</td>\n",
              "      <td>-0.008986</td>\n",
              "      <td>-0.002821</td>\n",
              "      <td>0.033574</td>\n",
              "      <td>0.041834</td>\n",
              "      <td>0.071734</td>\n",
              "      <td>0.021783</td>\n",
              "      <td>1.000000</td>\n",
              "      <td>0.058453</td>\n",
              "      <td>0.042658</td>\n",
              "    </tr>\n",
              "    <tr>\n",
              "      <th>SalePrice</th>\n",
              "      <td>0.456461</td>\n",
              "      <td>0.809829</td>\n",
              "      <td>-0.129325</td>\n",
              "      <td>-0.652682</td>\n",
              "      <td>-0.571159</td>\n",
              "      <td>0.684014</td>\n",
              "      <td>0.011682</td>\n",
              "      <td>0.234907</td>\n",
              "      <td>0.690711</td>\n",
              "      <td>0.058453</td>\n",
              "      <td>1.000000</td>\n",
              "      <td>-0.151573</td>\n",
              "    </tr>\n",
              "    <tr>\n",
              "      <th>Artery</th>\n",
              "      <td>-0.024566</td>\n",
              "      <td>-0.081717</td>\n",
              "      <td>0.079480</td>\n",
              "      <td>0.219426</td>\n",
              "      <td>0.154949</td>\n",
              "      <td>-0.107414</td>\n",
              "      <td>0.071515</td>\n",
              "      <td>0.030117</td>\n",
              "      <td>-0.081109</td>\n",
              "      <td>0.042658</td>\n",
              "      <td>-0.151573</td>\n",
              "      <td>1.000000</td>\n",
              "    </tr>\n",
              "  </tbody>\n",
              "</table>\n",
              "</div>\n",
              "      <button class=\"colab-df-convert\" onclick=\"convertToInteractive('df-76a80522-9a92-42ae-8ce1-9a4240d70583')\"\n",
              "              title=\"Convert this dataframe to an interactive table.\"\n",
              "              style=\"display:none;\">\n",
              "        \n",
              "  <svg xmlns=\"http://www.w3.org/2000/svg\" height=\"24px\"viewBox=\"0 0 24 24\"\n",
              "       width=\"24px\">\n",
              "    <path d=\"M0 0h24v24H0V0z\" fill=\"none\"/>\n",
              "    <path d=\"M18.56 5.44l.94 2.06.94-2.06 2.06-.94-2.06-.94-.94-2.06-.94 2.06-2.06.94zm-11 1L8.5 8.5l.94-2.06 2.06-.94-2.06-.94L8.5 2.5l-.94 2.06-2.06.94zm10 10l.94 2.06.94-2.06 2.06-.94-2.06-.94-.94-2.06-.94 2.06-2.06.94z\"/><path d=\"M17.41 7.96l-1.37-1.37c-.4-.4-.92-.59-1.43-.59-.52 0-1.04.2-1.43.59L10.3 9.45l-7.72 7.72c-.78.78-.78 2.05 0 2.83L4 21.41c.39.39.9.59 1.41.59.51 0 1.02-.2 1.41-.59l7.78-7.78 2.81-2.81c.8-.78.8-2.07 0-2.86zM5.41 20L4 18.59l7.72-7.72 1.47 1.35L5.41 20z\"/>\n",
              "  </svg>\n",
              "      </button>\n",
              "      \n",
              "  <style>\n",
              "    .colab-df-container {\n",
              "      display:flex;\n",
              "      flex-wrap:wrap;\n",
              "      gap: 12px;\n",
              "    }\n",
              "\n",
              "    .colab-df-convert {\n",
              "      background-color: #E8F0FE;\n",
              "      border: none;\n",
              "      border-radius: 50%;\n",
              "      cursor: pointer;\n",
              "      display: none;\n",
              "      fill: #1967D2;\n",
              "      height: 32px;\n",
              "      padding: 0 0 0 0;\n",
              "      width: 32px;\n",
              "    }\n",
              "\n",
              "    .colab-df-convert:hover {\n",
              "      background-color: #E2EBFA;\n",
              "      box-shadow: 0px 1px 2px rgba(60, 64, 67, 0.3), 0px 1px 3px 1px rgba(60, 64, 67, 0.15);\n",
              "      fill: #174EA6;\n",
              "    }\n",
              "\n",
              "    [theme=dark] .colab-df-convert {\n",
              "      background-color: #3B4455;\n",
              "      fill: #D2E3FC;\n",
              "    }\n",
              "\n",
              "    [theme=dark] .colab-df-convert:hover {\n",
              "      background-color: #434B5C;\n",
              "      box-shadow: 0px 1px 3px 1px rgba(0, 0, 0, 0.15);\n",
              "      filter: drop-shadow(0px 1px 2px rgba(0, 0, 0, 0.3));\n",
              "      fill: #FFFFFF;\n",
              "    }\n",
              "  </style>\n",
              "\n",
              "      <script>\n",
              "        const buttonEl =\n",
              "          document.querySelector('#df-76a80522-9a92-42ae-8ce1-9a4240d70583 button.colab-df-convert');\n",
              "        buttonEl.style.display =\n",
              "          google.colab.kernel.accessAllowed ? 'block' : 'none';\n",
              "\n",
              "        async function convertToInteractive(key) {\n",
              "          const element = document.querySelector('#df-76a80522-9a92-42ae-8ce1-9a4240d70583');\n",
              "          const dataTable =\n",
              "            await google.colab.kernel.invokeFunction('convertToInteractive',\n",
              "                                                     [key], {});\n",
              "          if (!dataTable) return;\n",
              "\n",
              "          const docLinkHtml = 'Like what you see? Visit the ' +\n",
              "            '<a target=\"_blank\" href=https://colab.research.google.com/notebooks/data_table.ipynb>data table notebook</a>'\n",
              "            + ' to learn more about interactive tables.';\n",
              "          element.innerHTML = '';\n",
              "          dataTable['output_type'] = 'display_data';\n",
              "          await google.colab.output.renderOutput(dataTable, element);\n",
              "          const docLink = document.createElement('div');\n",
              "          docLink.innerHTML = docLinkHtml;\n",
              "          element.appendChild(docLink);\n",
              "        }\n",
              "      </script>\n",
              "    </div>\n",
              "  </div>\n",
              "  "
            ]
          },
          "metadata": {},
          "execution_count": 37
        }
      ]
    },
    {
      "cell_type": "markdown",
      "source": [
        "###Modelamiento"
      ],
      "metadata": {
        "id": "Lu4KGqrBvx1L"
      }
    },
    {
      "cell_type": "code",
      "source": [
        "y=df[\"SalePrice\"]\n",
        "x=df[[\"Artery\",\"PoolArea\",\"GarageCars\",\"BedroomAbvGr\",\"ExterCond\",\"ExterQual\",\"YearRemodAdd\",\"YearBuilt\",\"OverallCond\",\"OverallQual\",\"LotArea\"]]\n",
        "x = sm.add_constant(x)\n",
        "model = sm.OLS(y,x)\n",
        "reg = model.fit()\n",
        "reg.summary()"
      ],
      "metadata": {
        "id": "b0Kn62yfv2lj",
        "colab": {
          "base_uri": "https://localhost:8080/",
          "height": 755
        },
        "outputId": "e0191790-e061-4186-8f5e-479bde194b14"
      },
      "execution_count": 40,
      "outputs": [
        {
          "output_type": "stream",
          "name": "stderr",
          "text": [
            "/usr/local/lib/python3.7/dist-packages/statsmodels/tsa/tsatools.py:142: FutureWarning: In a future version of pandas all arguments of concat except for the argument 'objs' will be keyword-only\n",
            "  x = pd.concat(x[::order], 1)\n"
          ]
        },
        {
          "output_type": "execute_result",
          "data": {
            "text/plain": [
              "<class 'statsmodels.iolib.summary.Summary'>\n",
              "\"\"\"\n",
              "                            OLS Regression Results                            \n",
              "==============================================================================\n",
              "Dep. Variable:              SalePrice   R-squared:                       0.723\n",
              "Model:                            OLS   Adj. R-squared:                  0.721\n",
              "Method:                 Least Squares   F-statistic:                     344.0\n",
              "Date:                Fri, 21 Oct 2022   Prob (F-statistic):               0.00\n",
              "Time:                        21:10:23   Log-Likelihood:                -17606.\n",
              "No. Observations:                1460   AIC:                         3.524e+04\n",
              "Df Residuals:                    1448   BIC:                         3.530e+04\n",
              "Df Model:                          11                                         \n",
              "Covariance Type:            nonrobust                                         \n",
              "================================================================================\n",
              "                   coef    std err          t      P>|t|      [0.025      0.975]\n",
              "--------------------------------------------------------------------------------\n",
              "const        -1.608e+05   1.55e+04    -10.405      0.000   -1.91e+05   -1.31e+05\n",
              "Artery       -1.685e+04   6386.908     -2.639      0.008   -2.94e+04   -4325.130\n",
              "PoolArea        65.9602     27.576      2.392      0.017      11.866     120.054\n",
              "GarageCars    2.154e+04   1961.501     10.980      0.000    1.77e+04    2.54e+04\n",
              "BedroomAbvGr  8671.1916   1391.016      6.234      0.000    5942.569    1.14e+04\n",
              "ExterCond    -1345.2306   3417.044     -0.394      0.694   -8048.116    5357.655\n",
              "ExterQual     2.777e+04   3045.938      9.118      0.000    2.18e+04    3.37e+04\n",
              "YearRemodAdd   -97.5246     77.399     -1.260      0.208    -249.350      54.301\n",
              "YearBuilt      -48.5728     59.392     -0.818      0.414    -165.076      67.931\n",
              "OverallCond   2951.1091   1244.436      2.371      0.018     510.019    5392.199\n",
              "OverallQual   2.713e+04   1297.721     20.908      0.000    2.46e+04    2.97e+04\n",
              "LotArea          1.2530      0.113     11.114      0.000       1.032       1.474\n",
              "==============================================================================\n",
              "Omnibus:                      688.474   Durbin-Watson:                   1.991\n",
              "Prob(Omnibus):                  0.000   Jarque-Bera (JB):            12425.917\n",
              "Skew:                           1.745   Prob(JB):                         0.00\n",
              "Kurtosis:                      16.859   Cond. No.                     2.07e+05\n",
              "==============================================================================\n",
              "\n",
              "Notes:\n",
              "[1] Standard Errors assume that the covariance matrix of the errors is correctly specified.\n",
              "[2] The condition number is large, 2.07e+05. This might indicate that there are\n",
              "strong multicollinearity or other numerical problems.\n",
              "\"\"\""
            ],
            "text/html": [
              "<table class=\"simpletable\">\n",
              "<caption>OLS Regression Results</caption>\n",
              "<tr>\n",
              "  <th>Dep. Variable:</th>        <td>SalePrice</td>    <th>  R-squared:         </th> <td>   0.723</td> \n",
              "</tr>\n",
              "<tr>\n",
              "  <th>Model:</th>                   <td>OLS</td>       <th>  Adj. R-squared:    </th> <td>   0.721</td> \n",
              "</tr>\n",
              "<tr>\n",
              "  <th>Method:</th>             <td>Least Squares</td>  <th>  F-statistic:       </th> <td>   344.0</td> \n",
              "</tr>\n",
              "<tr>\n",
              "  <th>Date:</th>             <td>Fri, 21 Oct 2022</td> <th>  Prob (F-statistic):</th>  <td>  0.00</td>  \n",
              "</tr>\n",
              "<tr>\n",
              "  <th>Time:</th>                 <td>21:10:23</td>     <th>  Log-Likelihood:    </th> <td> -17606.</td> \n",
              "</tr>\n",
              "<tr>\n",
              "  <th>No. Observations:</th>      <td>  1460</td>      <th>  AIC:               </th> <td>3.524e+04</td>\n",
              "</tr>\n",
              "<tr>\n",
              "  <th>Df Residuals:</th>          <td>  1448</td>      <th>  BIC:               </th> <td>3.530e+04</td>\n",
              "</tr>\n",
              "<tr>\n",
              "  <th>Df Model:</th>              <td>    11</td>      <th>                     </th>     <td> </td>    \n",
              "</tr>\n",
              "<tr>\n",
              "  <th>Covariance Type:</th>      <td>nonrobust</td>    <th>                     </th>     <td> </td>    \n",
              "</tr>\n",
              "</table>\n",
              "<table class=\"simpletable\">\n",
              "<tr>\n",
              "        <td></td>          <th>coef</th>     <th>std err</th>      <th>t</th>      <th>P>|t|</th>  <th>[0.025</th>    <th>0.975]</th>  \n",
              "</tr>\n",
              "<tr>\n",
              "  <th>const</th>        <td>-1.608e+05</td> <td> 1.55e+04</td> <td>  -10.405</td> <td> 0.000</td> <td>-1.91e+05</td> <td>-1.31e+05</td>\n",
              "</tr>\n",
              "<tr>\n",
              "  <th>Artery</th>       <td>-1.685e+04</td> <td> 6386.908</td> <td>   -2.639</td> <td> 0.008</td> <td>-2.94e+04</td> <td>-4325.130</td>\n",
              "</tr>\n",
              "<tr>\n",
              "  <th>PoolArea</th>     <td>   65.9602</td> <td>   27.576</td> <td>    2.392</td> <td> 0.017</td> <td>   11.866</td> <td>  120.054</td>\n",
              "</tr>\n",
              "<tr>\n",
              "  <th>GarageCars</th>   <td> 2.154e+04</td> <td> 1961.501</td> <td>   10.980</td> <td> 0.000</td> <td> 1.77e+04</td> <td> 2.54e+04</td>\n",
              "</tr>\n",
              "<tr>\n",
              "  <th>BedroomAbvGr</th> <td> 8671.1916</td> <td> 1391.016</td> <td>    6.234</td> <td> 0.000</td> <td> 5942.569</td> <td> 1.14e+04</td>\n",
              "</tr>\n",
              "<tr>\n",
              "  <th>ExterCond</th>    <td>-1345.2306</td> <td> 3417.044</td> <td>   -0.394</td> <td> 0.694</td> <td>-8048.116</td> <td> 5357.655</td>\n",
              "</tr>\n",
              "<tr>\n",
              "  <th>ExterQual</th>    <td> 2.777e+04</td> <td> 3045.938</td> <td>    9.118</td> <td> 0.000</td> <td> 2.18e+04</td> <td> 3.37e+04</td>\n",
              "</tr>\n",
              "<tr>\n",
              "  <th>YearRemodAdd</th> <td>  -97.5246</td> <td>   77.399</td> <td>   -1.260</td> <td> 0.208</td> <td> -249.350</td> <td>   54.301</td>\n",
              "</tr>\n",
              "<tr>\n",
              "  <th>YearBuilt</th>    <td>  -48.5728</td> <td>   59.392</td> <td>   -0.818</td> <td> 0.414</td> <td> -165.076</td> <td>   67.931</td>\n",
              "</tr>\n",
              "<tr>\n",
              "  <th>OverallCond</th>  <td> 2951.1091</td> <td> 1244.436</td> <td>    2.371</td> <td> 0.018</td> <td>  510.019</td> <td> 5392.199</td>\n",
              "</tr>\n",
              "<tr>\n",
              "  <th>OverallQual</th>  <td> 2.713e+04</td> <td> 1297.721</td> <td>   20.908</td> <td> 0.000</td> <td> 2.46e+04</td> <td> 2.97e+04</td>\n",
              "</tr>\n",
              "<tr>\n",
              "  <th>LotArea</th>      <td>    1.2530</td> <td>    0.113</td> <td>   11.114</td> <td> 0.000</td> <td>    1.032</td> <td>    1.474</td>\n",
              "</tr>\n",
              "</table>\n",
              "<table class=\"simpletable\">\n",
              "<tr>\n",
              "  <th>Omnibus:</th>       <td>688.474</td> <th>  Durbin-Watson:     </th> <td>   1.991</td> \n",
              "</tr>\n",
              "<tr>\n",
              "  <th>Prob(Omnibus):</th> <td> 0.000</td>  <th>  Jarque-Bera (JB):  </th> <td>12425.917</td>\n",
              "</tr>\n",
              "<tr>\n",
              "  <th>Skew:</th>          <td> 1.745</td>  <th>  Prob(JB):          </th> <td>    0.00</td> \n",
              "</tr>\n",
              "<tr>\n",
              "  <th>Kurtosis:</th>      <td>16.859</td>  <th>  Cond. No.          </th> <td>2.07e+05</td> \n",
              "</tr>\n",
              "</table><br/><br/>Notes:<br/>[1] Standard Errors assume that the covariance matrix of the errors is correctly specified.<br/>[2] The condition number is large, 2.07e+05. This might indicate that there are<br/>strong multicollinearity or other numerical problems."
            ]
          },
          "metadata": {},
          "execution_count": 40
        }
      ]
    },
    {
      "cell_type": "markdown",
      "source": [
        "#Conclusiones "
      ],
      "metadata": {
        "id": "Kh3O3FBXYGiZ"
      }
    },
    {
      "cell_type": "markdown",
      "source": [
        "garage, numero de habitaciones, calidad, condiciones generales, area de la piscina \n",
        "Variables significativas teniendo en cuenta el p-valor del modelo. en el modelo respecto a el precio de venta son el numero de habitaciones que tenga el inmueble, la calidad del inmueble en las condiciones genrales, elo area de la piscina y si el inmueble posee la misma. Es relevante al proceso de compra respecto al precio del mismo.\n",
        "las variables que no son significativas al precio de compra del modelo, son el area del lote que puede estar asociado mas a la necesidad de espacios especificos mas que a el tamaño general del inmueble, por otro lado el año en el que se constuye el immueble tampoco es una caracteristica relevante, con una posible asociacion a la importancia a espacios mas que a el tamaño o condiciones.\n",
        "tambien hay que tener en cuenta que al estar respecto al precio las caracteristicas de lujo tienen una mayor relevancia respecto al precio."
      ],
      "metadata": {
        "id": "gnCPyR8bYUnX"
      }
    },
    {
      "cell_type": "code",
      "source": [],
      "metadata": {
        "id": "P3xuJpDuWZem"
      },
      "execution_count": null,
      "outputs": []
    }
  ]
}